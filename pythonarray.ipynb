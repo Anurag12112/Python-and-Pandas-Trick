{
 "cells": [
  {
   "cell_type": "markdown",
   "id": "ae564cb8-a939-4112-981e-a2b59f7864b6",
   "metadata": {},
   "source": [
    "# Python Collections (Arrays)\n",
    "## There are four collection data types in the Python programming language:\n",
    "\n",
    "## List is a collection which is ordered and changeable. Allows duplicate members.\n",
    "## Tuple is a collection which is ordered and unchangeable. Allows duplicate members.\n",
    "## Set is a collection which is unordered, unchangeable*, and unindexed. No duplicate members.\n",
    "## Dictionary is a collection which is ordered** and changeable. No duplicate members."
   ]
  },
  {
   "cell_type": "markdown",
   "id": "c4f7aece-77ec-4f61-9b0e-28c96b9faf55",
   "metadata": {},
   "source": [
    "# List\n",
    "## This is collection of an ordered items or elements. List element can be of diffrent data types like numbers, strings nesteded lists, objects, tuples etc. \n",
    "## A collection of values, each in a fixed position with in list like other types str, tuple, int, float etc. \n",
    "## There is also a list type-converter function that tries to turn whatever itratable you give. \n",
    "## List are similar to strings, which is ordered collection of characters except that the element of list can be of any type. \n",
    "## List, string or other collections that maintains the order of their items are called Sequence.\n",
    "## There are several ways to create a new list. Simplest is to enclose the element in square brackets([ and ]). We can also create list using list() function.\n",
    "## Lists are used to store multiple items in a single variable.\n",
    "## Lists are one of 4 built-in data types in Python used to store collections of data, the other 3 are Tuple, Set, and Dictionary, all with different qualities and usage.\n",
    "## Lists are created using square brackets:"
   ]
  },
  {
   "cell_type": "code",
   "execution_count": 2,
   "id": "222ab556-2306-4a6f-be61-6827b33cecfb",
   "metadata": {},
   "outputs": [
    {
     "name": "stdout",
     "output_type": "stream",
     "text": [
      "['apple', 'banana', 'cherry']\n"
     ]
    }
   ],
   "source": [
    "thislist = [\"apple\", \"banana\", \"cherry\"]\n",
    "print(thislist)"
   ]
  },
  {
   "cell_type": "markdown",
   "id": "3b9b4378-972c-40e8-8e52-9788839842f4",
   "metadata": {
    "tags": []
   },
   "source": [
    "## List Items\n",
    "## List items are ordered, changeable, and allow duplicate values.\n",
    "## List items are indexed, the first item has index [0], the second item has index [1] .\n",
    "## Ordered\n",
    "## When we say that lists are ordered, it means that the items have a defined order, and that order will not change.\n",
    "## If you add new items to a list, the new items will be placed at the end of the list.\n",
    "# There are some list methods that will change the order, but in general: the order of the items will not change.\n",
    "## Changeable\n",
    "## The list is changeable, meaning that we can change, add, and remove items in a list after it has been created.\n",
    "## Allow Duplicates\n",
    "## Since lists are indexed, lists can have items with the same value:"
   ]
  },
  {
   "cell_type": "code",
   "execution_count": 3,
   "id": "661c9f01-2088-42bf-a338-1a2a1002ee6d",
   "metadata": {},
   "outputs": [
    {
     "name": "stdout",
     "output_type": "stream",
     "text": [
      "['apple', 'banana', 'cherry', 'apple', 'cherry']\n"
     ]
    }
   ],
   "source": [
    "#Lists allow duplicate values:\n",
    "\n",
    "thislist = [\"apple\", \"banana\", \"cherry\", \"apple\", \"cherry\"]\n",
    "print(thislist)"
   ]
  },
  {
   "cell_type": "markdown",
   "id": "036931d3-21c0-4e21-9160-10bf78e4345d",
   "metadata": {},
   "source": [
    "# List Length\n",
    "## To determine how many items a list has, use the len() function:"
   ]
  },
  {
   "cell_type": "code",
   "execution_count": 5,
   "id": "3ad18ae2-2c63-4d1d-9790-d364691826c9",
   "metadata": {},
   "outputs": [
    {
     "name": "stdout",
     "output_type": "stream",
     "text": [
      "3\n"
     ]
    }
   ],
   "source": [
    "#Print the number of items in the list:\n",
    "thislist = [\"apple\", \"banana\", \"cherry\"]\n",
    "print(len(thislist))"
   ]
  },
  {
   "cell_type": "markdown",
   "id": "db35cad3-d9d0-4e98-bc9d-cc7917d06a57",
   "metadata": {},
   "source": [
    "# List Items - Data Types\n",
    "# List items can be of any data type:"
   ]
  },
  {
   "cell_type": "code",
   "execution_count": 6,
   "id": "808e62e6-d635-4118-963b-bc1bce5f2e6b",
   "metadata": {},
   "outputs": [
    {
     "name": "stdout",
     "output_type": "stream",
     "text": [
      "['apple', 'banana', 'cherry']\n",
      "[1, 5, 7, 9, 3]\n",
      "[True, False, False]\n"
     ]
    }
   ],
   "source": [
    "list1 = [\"apple\", \"banana\", \"cherry\"] #str\n",
    "list2 = [1, 5, 7, 9, 3] #int\n",
    "list3 = [True, False, False] #boolean\n",
    "print(list1)\n",
    "print(list2)\n",
    "print(list3)\n"
   ]
  },
  {
   "cell_type": "markdown",
   "id": "476a3553-116e-4a30-b6c7-413e5662e350",
   "metadata": {},
   "source": [
    "# A list can contain different data types"
   ]
  },
  {
   "cell_type": "code",
   "execution_count": 8,
   "id": "5195a03a-7b21-4ab1-a980-f4e2894f67db",
   "metadata": {},
   "outputs": [
    {
     "name": "stdout",
     "output_type": "stream",
     "text": [
      "['abc', 34, True, 40, 'male']\n"
     ]
    }
   ],
   "source": [
    "list1 = [\"abc\", 34, True, 40, \"male\"] #A list with strings, integers and boolean values\n",
    "print(list1)"
   ]
  },
  {
   "cell_type": "markdown",
   "id": "c150bb44-fda8-4968-a2cb-b7cb1a984de0",
   "metadata": {},
   "source": [
    "# type()\n",
    "## From Python's perspective, lists are defined as objects with the data type 'list': <class 'list'>"
   ]
  },
  {
   "cell_type": "code",
   "execution_count": 9,
   "id": "c6d61ada-d37a-401e-a759-614366f55c1b",
   "metadata": {},
   "outputs": [
    {
     "name": "stdout",
     "output_type": "stream",
     "text": [
      "<class 'list'>\n"
     ]
    }
   ],
   "source": [
    "mylist = [\"apple\", \"banana\", \"cherry\"]\n",
    "print(type(mylist))"
   ]
  },
  {
   "cell_type": "markdown",
   "id": "7224217c-7f4c-4714-b56a-59a079504681",
   "metadata": {},
   "source": [
    "# The list() Constructor\n",
    "## It is also possible to use the list() constructor when creating a new list."
   ]
  },
  {
   "cell_type": "code",
   "execution_count": 10,
   "id": "6f84d328-5a93-4808-939b-7b2d8044d248",
   "metadata": {},
   "outputs": [
    {
     "name": "stdout",
     "output_type": "stream",
     "text": [
      "['apple', 'banana', 'cherry']\n"
     ]
    }
   ],
   "source": [
    "thislist = list((\"apple\", \"banana\", \"cherry\")) # note the double round-brackets\n",
    "print(thislist) #Using the list() constructor to make a List"
   ]
  },
  {
   "cell_type": "markdown",
   "id": "8450227e-d6e0-44df-9bd8-2a53997c3da0",
   "metadata": {},
   "source": [
    "# Python Tuples"
   ]
  },
  {
   "cell_type": "markdown",
   "id": "47661b0c-c48d-4771-bd60-c9bc4aea0d82",
   "metadata": {},
   "source": [
    "## Tuple\n",
    "## Tuples are used to store multiple items in a single variable.\n",
    "## Tuple is one of 4 built-in data types in Python used to store collections of data, the other 3 are List, Set, and Dictionary, all with different qualities and usage.\n",
    "## A tuple is a collection which is ordered and unchangeable.\n",
    "## Tuples are written with round brackets."
   ]
  },
  {
   "cell_type": "code",
   "execution_count": 11,
   "id": "b7f4d75d-6649-4f5f-8dfa-ebc22432a7fb",
   "metadata": {},
   "outputs": [
    {
     "name": "stdout",
     "output_type": "stream",
     "text": [
      "('apple', 'banana', 'cherry')\n"
     ]
    }
   ],
   "source": [
    "thistuple = (\"apple\", \"banana\", \"cherry\")\n",
    "print(thistuple) #Create a Tuple"
   ]
  },
  {
   "cell_type": "markdown",
   "id": "8e959410-d4ed-44fe-8c89-61f3c5c93679",
   "metadata": {},
   "source": [
    "## Tuple Items\n",
    "## Tuple items are ordered, unchangeable, and allow duplicate values.\n",
    "## Tuple items are indexed, the first item has index [0], the second item has index [1] etc.\n",
    "## Ordered\n",
    "## When we say that tuples are ordered, it means that the items have a defined order, and that order will not change.\n",
    "## Unchangeable\n",
    "## Tuples are unchangeable, meaning that we cannot change, add or remove items after the tuple has been created."
   ]
  },
  {
   "cell_type": "code",
   "execution_count": 12,
   "id": "3c331c23-133b-4a20-87bc-e1e2082de595",
   "metadata": {},
   "outputs": [
    {
     "name": "stdout",
     "output_type": "stream",
     "text": [
      "('apple', 'banana', 'cherry', 'apple', 'cherry')\n"
     ]
    }
   ],
   "source": [
    "# Tuples allow duplicate values:\n",
    "\n",
    "thistuple = (\"apple\", \"banana\", \"cherry\", \"apple\", \"cherry\")\n",
    "print(thistuple)"
   ]
  },
  {
   "cell_type": "markdown",
   "id": "bc10c184-ee5f-4d86-b56b-1ac35970d727",
   "metadata": {},
   "source": [
    "## Tuple Length\n",
    "## To determine how many items a tuple has, use the len() function"
   ]
  },
  {
   "cell_type": "code",
   "execution_count": 13,
   "id": "25d50950-b5e3-44a1-9da8-e178a4f88d70",
   "metadata": {},
   "outputs": [
    {
     "name": "stdout",
     "output_type": "stream",
     "text": [
      "3\n"
     ]
    }
   ],
   "source": [
    "thistuple = (\"apple\", \"banana\", \"cherry\")\n",
    "print(len(thistuple)) #Print the number of items in the tuple"
   ]
  },
  {
   "cell_type": "markdown",
   "id": "f4f1fd6f-3064-46d9-8989-9be6c1a00f83",
   "metadata": {},
   "source": [
    "## Create Tuple With One Item\n",
    "## To create a tuple with only one item, you have to add a comma after the item, otherwise Python will not recognize it as a tuple."
   ]
  },
  {
   "cell_type": "code",
   "execution_count": 15,
   "id": "67eb39da-2955-4e57-b0d7-2daab3a1b4d0",
   "metadata": {},
   "outputs": [
    {
     "name": "stdout",
     "output_type": "stream",
     "text": [
      "<class 'tuple'>\n",
      "<class 'str'>\n"
     ]
    }
   ],
   "source": [
    "thistuple = (\"apple\",) # One item tuple, remember the comma:\n",
    "print(type(thistuple))\n",
    "\n",
    "#NOT a tuple\n",
    "\n",
    "thistuple = (\"apple\")\n",
    "print(type(thistuple))"
   ]
  },
  {
   "cell_type": "markdown",
   "id": "a0000575-c3b0-4723-8dfb-ef55ef1f9919",
   "metadata": {},
   "source": [
    "## Tuple Items - Data Types\n",
    "## Tuple items can be of any data type:"
   ]
  },
  {
   "cell_type": "code",
   "execution_count": 17,
   "id": "6776ac5a-5442-47f7-87fc-f96175c7b1b1",
   "metadata": {},
   "outputs": [
    {
     "name": "stdout",
     "output_type": "stream",
     "text": [
      "('apple', 'banana', 'cherry')\n",
      "(1, 5, 7, 9, 3)\n",
      "(True, False, False)\n"
     ]
    }
   ],
   "source": [
    "tuple1 = (\"apple\", \"banana\", \"cherry\") #String, \n",
    "tuple2 = (1, 5, 7, 9, 3) #int \n",
    "tuple3 = (True, False, False) #boolean\n",
    "print(tuple1)\n",
    "print(tuple2)\n",
    "print(tuple3)\n"
   ]
  },
  {
   "cell_type": "markdown",
   "id": "0413148d-4e2a-4840-979b-6aaa683b9e37",
   "metadata": {},
   "source": [
    "# A tuple can contain different data types"
   ]
  },
  {
   "cell_type": "code",
   "execution_count": 18,
   "id": "35567efb-fef9-4831-aaf1-9ddc85df50b0",
   "metadata": {},
   "outputs": [
    {
     "name": "stdout",
     "output_type": "stream",
     "text": [
      "('abc', 34, True, 40, 'male')\n"
     ]
    }
   ],
   "source": [
    "tuple1 = (\"abc\", 34, True, 40, \"male\")\n",
    "print(tuple1)"
   ]
  },
  {
   "cell_type": "markdown",
   "id": "c5501055-651c-474d-8e03-54b83cc647d1",
   "metadata": {},
   "source": [
    "# type()\n",
    "## From Python's perspective, tuples are defined as objects with the data type 'tuple':\n",
    "# <class 'tuple'>"
   ]
  },
  {
   "cell_type": "code",
   "execution_count": 19,
   "id": "f7456266-6128-4c6a-ac1d-777de73aa2b5",
   "metadata": {},
   "outputs": [
    {
     "name": "stdout",
     "output_type": "stream",
     "text": [
      "<class 'tuple'>\n"
     ]
    }
   ],
   "source": [
    "mytuple = (\"apple\", \"banana\", \"cherry\")\n",
    "print(type(mytuple)) # to find a data type"
   ]
  },
  {
   "cell_type": "markdown",
   "id": "e7d992eb-89e0-4817-bc64-cdf3718c4a5a",
   "metadata": {},
   "source": [
    "# The tuple() Constructor\n",
    "## It is also possible to use the tuple() constructor to make a tuple."
   ]
  },
  {
   "cell_type": "code",
   "execution_count": 20,
   "id": "dfea7aea-2729-44cf-a48f-c7a7d975b3d3",
   "metadata": {},
   "outputs": [
    {
     "name": "stdout",
     "output_type": "stream",
     "text": [
      "('apple', 'banana', 'cherry')\n"
     ]
    }
   ],
   "source": [
    "#Using the tuple() method to make a tuple:\n",
    "thistuple = tuple((\"apple\", \"banana\", \"cherry\")) # note the double round-brackets\n",
    "print(thistuple)"
   ]
  },
  {
   "cell_type": "markdown",
   "id": "ed1a60d7-d72c-48e2-a52b-0e70502aefd9",
   "metadata": {},
   "source": [
    "# Python Sets"
   ]
  },
  {
   "cell_type": "markdown",
   "id": "a51775cc-3614-4a7f-9fb0-b2dda35f1a79",
   "metadata": {},
   "source": [
    "## Set\n",
    "## Sets are used to store multiple items in a single variable.\n",
    "## Set is one of 4 built-in data types in Python used to store collections of data, the other 3 are List, Tuple, and Dictionary, all with different qualities and usage.\n",
    "## A set is a collection which is unordered, unchangeable*, and unindexed.\n",
    "## Set items are unchangeable, but you can remove items and add new items.\n",
    "## Sets are written with curly brackets."
   ]
  },
  {
   "cell_type": "code",
   "execution_count": 21,
   "id": "02b971d6-826c-4eff-9339-101b5dcdbdc2",
   "metadata": {},
   "outputs": [
    {
     "name": "stdout",
     "output_type": "stream",
     "text": [
      "{'banana', 'apple', 'cherry'}\n"
     ]
    }
   ],
   "source": [
    "thisset = {\"apple\", \"banana\", \"cherry\"}\n",
    "print(thisset)"
   ]
  },
  {
   "cell_type": "markdown",
   "id": "94dbab98-3875-4963-93d9-a39df9b31932",
   "metadata": {},
   "source": [
    "## Set Items\n",
    "## Set items are unordered, unchangeable, and do not allow duplicate values.\n",
    "## Unordered\n",
    "## Unordered means that the items in a set do not have a defined order.\n",
    "## Set items can appear in a different order every time you use them, and cannot be referred to by index or key.\n",
    "## Unchangeable\n",
    "## Set items are unchangeable, meaning that we cannot change the items after the set has been created\n",
    "## Once a set is created, you cannot change its items, but you can remove items and add new items.\n",
    "## Duplicates Not Allowed\n",
    "## Sets cannot have two items with the same value."
   ]
  },
  {
   "cell_type": "code",
   "execution_count": 23,
   "id": "a94b593c-73fd-4bd9-bd31-731f7140a014",
   "metadata": {},
   "outputs": [
    {
     "name": "stdout",
     "output_type": "stream",
     "text": [
      "{'banana', 'apple', 'cherry'}\n"
     ]
    }
   ],
   "source": [
    "thisset = {\"apple\", \"banana\", \"cherry\", \"apple\"} #Duplicate values will be ignored\n",
    "\n",
    "print(thisset)"
   ]
  },
  {
   "cell_type": "markdown",
   "id": "af0273d6-3184-48d2-bdb3-1473f313b165",
   "metadata": {},
   "source": [
    "# Get the Length of a Set\n",
    "## To determine how many items a set has, use the len() function."
   ]
  },
  {
   "cell_type": "code",
   "execution_count": 24,
   "id": "503a6981-c8c0-425f-aec3-9d6c67d4d705",
   "metadata": {},
   "outputs": [
    {
     "name": "stdout",
     "output_type": "stream",
     "text": [
      "3\n"
     ]
    }
   ],
   "source": [
    "thisset = {\"apple\", \"banana\", \"cherry\"}\n",
    "print(len(thisset))  #Get the number of items in a set\n"
   ]
  },
  {
   "cell_type": "markdown",
   "id": "4b48daf2-2d0a-4304-af82-0bfd4d6f755b",
   "metadata": {},
   "source": [
    "## Set Items - Data Types\n",
    "## Set items can be of any data type:"
   ]
  },
  {
   "cell_type": "code",
   "execution_count": 26,
   "id": "de9b33da-744c-4b20-9a8f-7a049c075fa4",
   "metadata": {},
   "outputs": [
    {
     "name": "stdout",
     "output_type": "stream",
     "text": [
      "{'banana', 'apple', 'cherry'}\n",
      "{1, 3, 5, 7, 9}\n",
      "{False, True}\n"
     ]
    }
   ],
   "source": [
    "#String, int and boolean data types:\n",
    "\n",
    "set1 = {\"apple\", \"banana\", \"cherry\"}\n",
    "set2 = {1, 5, 7, 9, 3}\n",
    "set3 = {True, False, False}\n",
    "print(set1)\n",
    "print(set2)\n",
    "print(set3)\n"
   ]
  },
  {
   "cell_type": "code",
   "execution_count": 27,
   "id": "88464425-9e5d-4bd3-9bae-3f016104831f",
   "metadata": {},
   "outputs": [
    {
     "name": "stdout",
     "output_type": "stream",
     "text": [
      "{True, 34, 'abc', 'male', 40}\n"
     ]
    }
   ],
   "source": [
    "# A set can contain different data types:\n",
    "# A set with strings, integers and boolean values:\n",
    "\n",
    "set1 = {\"abc\", 34, True, 40, \"male\"}\n",
    "print(set1)"
   ]
  },
  {
   "cell_type": "markdown",
   "id": "157e3a90-a228-446a-8a80-a907dfa8e618",
   "metadata": {},
   "source": [
    "# Type"
   ]
  },
  {
   "cell_type": "code",
   "execution_count": 28,
   "id": "0654b6ba-2a7a-43fd-a045-daa0163a423f",
   "metadata": {},
   "outputs": [
    {
     "name": "stdout",
     "output_type": "stream",
     "text": [
      "<class 'set'>\n"
     ]
    }
   ],
   "source": [
    "#type()\n",
    "#From Python's perspective, sets are defined as objects with the data type 'set':\n",
    "#<class 'set'>\n",
    "myset = {\"apple\", \"banana\", \"cherry\"}\n",
    "print(type(myset))"
   ]
  },
  {
   "cell_type": "markdown",
   "id": "a271b9ce-90d6-4ca0-bb25-6988b49301b0",
   "metadata": {},
   "source": [
    "# Constructor"
   ]
  },
  {
   "cell_type": "code",
   "execution_count": 29,
   "id": "aebbf4ab-aed7-4b87-bc50-887ff50837ea",
   "metadata": {},
   "outputs": [
    {
     "name": "stdout",
     "output_type": "stream",
     "text": [
      "{'banana', 'apple', 'cherry'}\n"
     ]
    }
   ],
   "source": [
    "#The set() Constructor\n",
    "#It is also possible to use the set() constructor to make a set.\n",
    "thisset = set((\"apple\", \"banana\", \"cherry\")) # note the double round-brackets\n",
    "print(thisset) #Using the set() constructor to make a set:"
   ]
  },
  {
   "cell_type": "markdown",
   "id": "1a3e71f6-6e51-45b8-ad88-126d1f7be1f6",
   "metadata": {},
   "source": [
    "# Python Dictionaries"
   ]
  },
  {
   "cell_type": "markdown",
   "id": "8fad3343-4fe5-441f-b1c2-656718d426d5",
   "metadata": {},
   "source": [
    "## Dictionaries are used to store data values in key:value pairs.\n",
    "## A dictionary is a collection which is ordered*, changeable and do not allow duplicates.\n",
    "## As of Python version 3.7, dictionaries are ordered. In Python 3.6 and earlier, dictionaries are unordered.\n",
    "## Dictionaries are written with curly brackets, and have keys and values:"
   ]
  },
  {
   "cell_type": "code",
   "execution_count": 30,
   "id": "8d076cef-8895-4f45-83f3-da9292efe4a6",
   "metadata": {},
   "outputs": [
    {
     "name": "stdout",
     "output_type": "stream",
     "text": [
      "{'brand': 'Ford', 'model': 'Mustang', 'year': 1964}\n"
     ]
    }
   ],
   "source": [
    "thisdict = {\n",
    "  \"brand\": \"Ford\",\n",
    "  \"model\": \"Mustang\",\n",
    "  \"year\": 1964\n",
    "}\n",
    "print(thisdict) #Create and print a dictionary"
   ]
  },
  {
   "cell_type": "markdown",
   "id": "0768242d-57ba-4c79-a5e6-584326f98e92",
   "metadata": {},
   "source": [
    "## Dictionary Items\n",
    "## Dictionary items are ordered, changeable, and does not allow duplicates.\n",
    "## Dictionary items are presented in key:value pairs, and can be referred to by using the key name."
   ]
  },
  {
   "cell_type": "code",
   "execution_count": 31,
   "id": "6ff9bb47-d96d-48d3-90ed-bb45c3db8094",
   "metadata": {},
   "outputs": [
    {
     "name": "stdout",
     "output_type": "stream",
     "text": [
      "Ford\n"
     ]
    }
   ],
   "source": [
    "thisdict = {\n",
    "  \"brand\": \"Ford\",\n",
    "  \"model\": \"Mustang\",\n",
    "  \"year\": 1964\n",
    "}\n",
    "print(thisdict[\"brand\"]) #Print the \"brand\" value of the dictionary"
   ]
  },
  {
   "cell_type": "markdown",
   "id": "c9489000-cb2c-4f37-9dd3-b6b7a8824162",
   "metadata": {},
   "source": [
    "## Ordered or Unordered\n",
    "## As of Python version 3.7, dictionaries are ordered. In Python 3.6 and earlier, dictionaries are unordered.\n",
    "## When we say that dictionaries are ordered, it means that the items have a defined order, and that order will not change.\n",
    "## Unordered means that the items does not have a defined order, you cannot refer to an item by using an index.\n",
    "## Changeable\n",
    "## Dictionaries are changeable, meaning that we can change, add or remove items after the dictionary has been created.\n",
    "## Duplicates Not Allowed\n",
    "## Dictionaries cannot have two items with the same key:"
   ]
  },
  {
   "cell_type": "code",
   "execution_count": 33,
   "id": "c0fcd9a2-2b46-4ac1-b438-58f3f506b87a",
   "metadata": {},
   "outputs": [
    {
     "name": "stdout",
     "output_type": "stream",
     "text": [
      "{'brand': 'Ford', 'model': 'Mustang', 'year': 2020}\n"
     ]
    }
   ],
   "source": [
    "thisdict = {\n",
    "  \"brand\": \"Ford\",\n",
    "  \"model\": \"Mustang\",\n",
    "  \"year\": 1964,\n",
    "  \"year\": 2020 #Duplicate values will overwrite existing values\n",
    "}\n",
    "print(thisdict)"
   ]
  },
  {
   "cell_type": "markdown",
   "id": "d95676ec-ee9d-44d3-9057-86cc04d680e5",
   "metadata": {},
   "source": [
    "## Dictionary Length\n",
    "## To determine how many items a dictionary has, use the len() function:\n",
    "## Print the number of items in the dictionary:\n",
    ")"
   ]
  },
  {
   "cell_type": "code",
   "execution_count": 36,
   "id": "234ec6cd-bc35-4867-a3eb-31d5a6564af6",
   "metadata": {},
   "outputs": [
    {
     "name": "stdout",
     "output_type": "stream",
     "text": [
      "3\n"
     ]
    }
   ],
   "source": [
    "thisdict = {\n",
    "  \"brand\": \"Ford\",\n",
    "  \"model\": \"Mustang\",\n",
    "  \"year\": 1964,\n",
    "  \"year\": 2020\n",
    "}\n",
    "print(len(thisdict))\n"
   ]
  },
  {
   "cell_type": "markdown",
   "id": "e834b640-4918-410c-84b7-b81235828f93",
   "metadata": {},
   "source": [
    "## Dictionary Items - Data Types\n",
    "## The values in dictionary items can be of any data type"
   ]
  },
  {
   "cell_type": "code",
   "execution_count": 38,
   "id": "a8c979ca-ae18-405f-b6e6-9ae43743fea1",
   "metadata": {},
   "outputs": [
    {
     "name": "stdout",
     "output_type": "stream",
     "text": [
      "{'brand': 'Ford', 'electric': False, 'year': 1964, 'colors': ['red', 'white', 'blue']}\n"
     ]
    }
   ],
   "source": [
    "thisdict = {\n",
    "  \"brand\": \"Ford\",\n",
    "  \"electric\": False,\n",
    "  \"year\": 1964,\n",
    "  \"colors\": [\"red\", \"white\", \"blue\"]\n",
    "}\n",
    "print(thisdict)"
   ]
  },
  {
   "cell_type": "code",
   "execution_count": 44,
   "id": "e233ff96-b13f-450b-9512-67e081c0a348",
   "metadata": {},
   "outputs": [
    {
     "name": "stdout",
     "output_type": "stream",
     "text": [
      "<class 'dict'>\n"
     ]
    }
   ],
   "source": [
    "#type()\n",
    "#From Python's perspective, dictionaries are defined as objects with the data type 'dict':\n",
    "#<class 'dict'>\n",
    "#Print the data type of a dictionary\n",
    "\n",
    "thisdict = {\n",
    "  \"brand\": \"Ford\",\n",
    "  \"model\": \"Mustang\",\n",
    "  \"year\": 1964\n",
    "}\n",
    "print(type(thisdict))\n"
   ]
  },
  {
   "cell_type": "code",
   "execution_count": 43,
   "id": "a6736a8b-7a64-4a1c-82bc-181a6d78b87f",
   "metadata": {},
   "outputs": [
    {
     "name": "stdout",
     "output_type": "stream",
     "text": [
      "<class 'dict'>\n"
     ]
    }
   ],
   "source": [
    "thisdict = {\n",
    "  \"brand\": \"Ford\",\n",
    "  \"model\": \"Mustang\",\n",
    "  \"year\": 1964\n",
    "}\n",
    "print(type(thisdict)) #Print the data type of a dictionary"
   ]
  },
  {
   "cell_type": "markdown",
   "id": "57626df8-9c4a-47e8-b6d3-43b64d4fb1df",
   "metadata": {},
   "source": [
    "# How to Remove Duplicates From a Python List"
   ]
  },
  {
   "cell_type": "code",
   "execution_count": 45,
   "id": "bb1a071c-c474-4ea5-8405-823dd9b2a8be",
   "metadata": {},
   "outputs": [
    {
     "name": "stdout",
     "output_type": "stream",
     "text": [
      "['a', 'b', 'c']\n"
     ]
    }
   ],
   "source": [
    "mylist = [\"a\", \"b\", \"a\", \"c\", \"c\"]\n",
    "mylist = list(dict.fromkeys(mylist)) #Remove any duplicates from a List\n",
    "print(mylist)"
   ]
  },
  {
   "cell_type": "markdown",
   "id": "67db103f-0074-4414-8f7f-46e023f3ea7e",
   "metadata": {},
   "source": [
    "# A List with Duplicates\n",
    "## Create a dictionary, using the List items as keys. This will automatically remove any duplicates because dictionaries cannot have duplicate keys."
   ]
  },
  {
   "cell_type": "code",
   "execution_count": 46,
   "id": "520aea28-355d-4c17-a2c6-7d94dc94b148",
   "metadata": {},
   "outputs": [
    {
     "name": "stdout",
     "output_type": "stream",
     "text": [
      "['a', 'b', 'c']\n"
     ]
    }
   ],
   "source": [
    "mylist = [\"a\", \"b\", \"a\", \"c\", \"c\"]\n",
    "mylist = list(dict.fromkeys(mylist)) #\n",
    "print(mylist)"
   ]
  },
  {
   "cell_type": "markdown",
   "id": "0fb8d3cd-50d9-47e1-86ee-a4fa5d445125",
   "metadata": {},
   "source": [
    "# Create a Function\n",
    "## If you like to have a function where you can send your lists, and get them back without duplicates,\n",
    "## you can create a function and insert the code from the example above.\n",
    "## Convert Into a List\n",
    "## Return List"
   ]
  },
  {
   "cell_type": "code",
   "execution_count": 51,
   "id": "2515c664-7565-4e2c-b42d-929e69c23035",
   "metadata": {},
   "outputs": [
    {
     "name": "stdout",
     "output_type": "stream",
     "text": [
      "['a', 'b', 'c']\n"
     ]
    }
   ],
   "source": [
    "def my_function(x):\n",
    "  return list(dict.fromkeys(x))\n",
    "\n",
    "mylist = my_function([\"a\", \"b\", \"a\", \"c\", \"c\"]) #Call the Function\n",
    "\n",
    "print(mylist) #Print the Result"
   ]
  },
  {
   "cell_type": "code",
   "execution_count": null,
   "id": "b711577d-1dcb-4b80-a272-1cf1122d8d72",
   "metadata": {},
   "outputs": [],
   "source": []
  },
  {
   "cell_type": "code",
   "execution_count": null,
   "id": "5e32e961-0023-49e3-80a9-9a0194ef41c0",
   "metadata": {},
   "outputs": [],
   "source": []
  }
 ],
 "metadata": {
  "kernelspec": {
   "display_name": "Python 3 (ipykernel)",
   "language": "python",
   "name": "python3"
  },
  "language_info": {
   "codemirror_mode": {
    "name": "ipython",
    "version": 3
   },
   "file_extension": ".py",
   "mimetype": "text/x-python",
   "name": "python",
   "nbconvert_exporter": "python",
   "pygments_lexer": "ipython3",
   "version": "3.9.7"
  }
 },
 "nbformat": 4,
 "nbformat_minor": 5
}
