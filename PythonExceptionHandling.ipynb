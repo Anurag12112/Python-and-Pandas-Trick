{
 "cells": [
  {
   "cell_type": "markdown",
   "id": "c2a9505a-1073-417e-a3f1-45c20c9cd71b",
   "metadata": {},
   "source": [
    "# Python Try Except"
   ]
  },
  {
   "cell_type": "markdown",
   "id": "c8cfd6ab-2909-4d3f-8436-d47275718d9f",
   "metadata": {},
   "source": [
    "## The try block lets you test a block of code for errors.\n",
    "## The except block lets you handle the error.\n",
    "## The else block lets you execute code when there is no error.\n",
    "## The finally block lets you execute code, regardless of the result of the try- and except blocks\n",
    "## The try clause is executed including a statement between try and except.\n",
    "## If no exception, the except clause is skipped and try statement is executed.\n",
    "## If exception occurred, statement under except if matches the exception then clause is executed else try statement is executed"
   ]
  },
  {
   "cell_type": "markdown",
   "id": "9f4078d6-1f63-4b7e-9ba8-9d1cfae0e773",
   "metadata": {},
   "source": [
    "## Exception Handling\n",
    "## When an error occurs, or exception as we call it, Python will normally stop and generate an error message.\n",
    "## These exceptions can be handled using the try statement"
   ]
  },
  {
   "cell_type": "code",
   "execution_count": 1,
   "id": "87141ced-e269-42e2-9078-e87598db84be",
   "metadata": {},
   "outputs": [
    {
     "name": "stdout",
     "output_type": "stream",
     "text": [
      "An exception occurred\n"
     ]
    }
   ],
   "source": [
    "try:\n",
    "  print(x)\n",
    "except:\n",
    "  print(\"An exception occurred\") #The try block will generate an exception, because x is not defined"
   ]
  },
  {
   "cell_type": "markdown",
   "id": "543fa81e-7f4a-499d-b7c2-0dc7f3db32a1",
   "metadata": {},
   "source": [
    "# Many Exceptions\n",
    "## You can define as many exception blocks as you want, e.g. if you want to execute a special block of code for a special kind of error:"
   ]
  },
  {
   "cell_type": "markdown",
   "id": "345d0749-8d8d-4880-bb8b-bae7329f613a",
   "metadata": {},
   "source": [
    "# Else\n",
    "## You can use the else keyword to define a block of code to be executed if no errors were raised"
   ]
  },
  {
   "cell_type": "code",
   "execution_count": 2,
   "id": "5479b204-032f-4a57-bad4-ea729bfbfc11",
   "metadata": {},
   "outputs": [
    {
     "name": "stdout",
     "output_type": "stream",
     "text": [
      "Hello\n",
      "Nothing went wrong\n"
     ]
    }
   ],
   "source": [
    "try:\n",
    "  print(\"Hello\")\n",
    "except:\n",
    "  print(\"Something went wrong\")\n",
    "else:\n",
    "  print(\"Nothing went wrong\")"
   ]
  },
  {
   "cell_type": "markdown",
   "id": "9a99891b-b62d-46d6-b88c-779b9a6f4ab5",
   "metadata": {},
   "source": [
    "# Finally\n",
    "## The finally block, if specified, will be executed regardless if the try block raises an error or not.\n",
    "## The program can continue, without leaving the file object open"
   ]
  },
  {
   "cell_type": "code",
   "execution_count": 3,
   "id": "ddcc1d04-819a-4a25-93e0-4a2450537543",
   "metadata": {},
   "outputs": [
    {
     "name": "stdout",
     "output_type": "stream",
     "text": [
      "Something went wrong\n",
      "The 'try except' is finished\n"
     ]
    }
   ],
   "source": [
    "try:\n",
    "  print(x)\n",
    "except:\n",
    "  print(\"Something went wrong\")\n",
    "finally:\n",
    "  print(\"The 'try except' is finished\")"
   ]
  },
  {
   "cell_type": "code",
   "execution_count": 5,
   "id": "2575c9f4-d0bd-4635-97b5-e53fabea7dc7",
   "metadata": {},
   "outputs": [
    {
     "name": "stdout",
     "output_type": "stream",
     "text": [
      "Something went wrong when opening the file\n"
     ]
    }
   ],
   "source": [
    "try:\n",
    "  f = open(\"demofile.txt\")\n",
    "  try:\n",
    "    f.write(\"Hello Anurag\")\n",
    "  except:\n",
    "    print(\"Something went wrong when writing to the file\")\n",
    "  finally:\n",
    "    f.close()\n",
    "except:\n",
    "  print(\"Something went wrong when opening the file\")"
   ]
  },
  {
   "cell_type": "markdown",
   "id": "1226fd4d-0e54-4447-8167-d969cc76acdd",
   "metadata": {},
   "source": [
    "# Raise an exception\n",
    "## As a Python developer you can choose to throw an exception if a condition occurs.\n",
    "## To throw (or raise) an exception, use the raise keyword."
   ]
  },
  {
   "cell_type": "code",
   "execution_count": 7,
   "id": "b4234710-2555-4dbc-a4dd-044d21fb865e",
   "metadata": {},
   "outputs": [
    {
     "ename": "Exception",
     "evalue": "Sorry, no numbers below zero",
     "output_type": "error",
     "traceback": [
      "\u001b[1;31m---------------------------------------------------------------------------\u001b[0m",
      "\u001b[1;31mException\u001b[0m                                 Traceback (most recent call last)",
      "\u001b[1;32m~\\AppData\\Local\\Temp/ipykernel_18284/1164378245.py\u001b[0m in \u001b[0;36m<module>\u001b[1;34m\u001b[0m\n\u001b[0;32m      2\u001b[0m \u001b[1;33m\u001b[0m\u001b[0m\n\u001b[0;32m      3\u001b[0m \u001b[1;32mif\u001b[0m \u001b[0mx\u001b[0m \u001b[1;33m<\u001b[0m \u001b[1;36m0\u001b[0m\u001b[1;33m:\u001b[0m\u001b[1;33m\u001b[0m\u001b[1;33m\u001b[0m\u001b[0m\n\u001b[1;32m----> 4\u001b[1;33m   \u001b[1;32mraise\u001b[0m \u001b[0mException\u001b[0m\u001b[1;33m(\u001b[0m\u001b[1;34m\"Sorry, no numbers below zero\"\u001b[0m\u001b[1;33m)\u001b[0m \u001b[1;31m#Raise an error and stop the program if x is lower than 0\u001b[0m\u001b[1;33m\u001b[0m\u001b[1;33m\u001b[0m\u001b[0m\n\u001b[0m",
      "\u001b[1;31mException\u001b[0m: Sorry, no numbers below zero"
     ]
    }
   ],
   "source": [
    "x = -1\n",
    "\n",
    "if x < 0:\n",
    "  raise Exception(\"Sorry, no numbers below zero\") #Raise an error and stop the program if x is lower than 0\n"
   ]
  },
  {
   "cell_type": "markdown",
   "id": "50a9553d-e57c-4519-a74c-0f14325e076c",
   "metadata": {},
   "source": [
    "## The raise keyword is used to raise an exception.\n",
    "## You can define what kind of error to raise, and the text to print to the user."
   ]
  },
  {
   "cell_type": "code",
   "execution_count": 12,
   "id": "de1bd6db-77ae-487c-8ccd-e20d0166a72f",
   "metadata": {},
   "outputs": [
    {
     "ename": "TypeError",
     "evalue": "Only integers are allowed",
     "output_type": "error",
     "traceback": [
      "\u001b[1;31m---------------------------------------------------------------------------\u001b[0m",
      "\u001b[1;31mTypeError\u001b[0m                                 Traceback (most recent call last)",
      "\u001b[1;32m~\\AppData\\Local\\Temp/ipykernel_18284/3360236870.py\u001b[0m in \u001b[0;36m<module>\u001b[1;34m\u001b[0m\n\u001b[0;32m      4\u001b[0m \u001b[1;33m\u001b[0m\u001b[0m\n\u001b[0;32m      5\u001b[0m \u001b[1;32mif\u001b[0m \u001b[1;32mnot\u001b[0m \u001b[0mtype\u001b[0m\u001b[1;33m(\u001b[0m\u001b[0mx\u001b[0m\u001b[1;33m)\u001b[0m \u001b[1;32mis\u001b[0m \u001b[0mint\u001b[0m\u001b[1;33m:\u001b[0m\u001b[1;33m\u001b[0m\u001b[1;33m\u001b[0m\u001b[0m\n\u001b[1;32m----> 6\u001b[1;33m   \u001b[1;32mraise\u001b[0m \u001b[0mTypeError\u001b[0m\u001b[1;33m(\u001b[0m\u001b[1;34m\"Only integers are allowed\"\u001b[0m\u001b[1;33m)\u001b[0m\u001b[1;33m\u001b[0m\u001b[1;33m\u001b[0m\u001b[0m\n\u001b[0m",
      "\u001b[1;31mTypeError\u001b[0m: Only integers are allowed"
     ]
    }
   ],
   "source": [
    "# Raise a TypeError if x is not an integer:\n",
    "\n",
    "x = \"hello\"\n",
    "\n",
    "if not type(x) is int:\n",
    "  raise TypeError(\"Only integers are allowed\")"
   ]
  }
 ],
 "metadata": {
  "kernelspec": {
   "display_name": "Python 3 (ipykernel)",
   "language": "python",
   "name": "python3"
  },
  "language_info": {
   "codemirror_mode": {
    "name": "ipython",
    "version": 3
   },
   "file_extension": ".py",
   "mimetype": "text/x-python",
   "name": "python",
   "nbconvert_exporter": "python",
   "pygments_lexer": "ipython3",
   "version": "3.9.7"
  }
 },
 "nbformat": 4,
 "nbformat_minor": 5
}
