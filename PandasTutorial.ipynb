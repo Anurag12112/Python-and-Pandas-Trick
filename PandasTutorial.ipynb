{
 "cells": [
  {
   "cell_type": "markdown",
   "id": "0b0f960a-950f-4ece-8b23-bb96b2057405",
   "metadata": {
    "jp-MarkdownHeadingCollapsed": true,
    "tags": []
   },
   "source": [
    "# Pandas Tutorial\n",
    "## Pandas is a Python library.\n",
    "## Pandas is used to analyze data.\n",
    "## Pandas is a Python library used for working with data sets.\n",
    "## It has functions for analyzing, cleaning, exploring, and manipulating data.\n",
    "## The name \"Pandas\" has a reference to both \"Panel Data\", and \"Python Data Analysis\" and was created by Wes McKinney in 2008.\n",
    "## Pandas is an open-source library that is built on top of NumPy library. \n",
    "## It is a Python package that offers various data structures and operations for manipulating numerical data and time series.\n",
    "## It is mainly popular for importing and analyzing data much easier. Pandas is fast and it has high-performance & productivity for users.\n",
    "## provides various data structures and operations for manipulating numerical data and time series. \n",
    "## This library is built on top of the NumPy library. Pandas is fast and it has high performance & productivity for users.\n",
    "## Pandas allows us to analyze big data and make conclusions based on statistical theories.\n",
    "## Pandas can clean messy data sets, and make them readable and relevant.\n",
    "## Relevant data is very important in data science."
   ]
  },
  {
   "cell_type": "markdown",
   "id": "ae7d9759-bde2-4b9d-8d61-a0a7d8fbc81d",
   "metadata": {},
   "source": [
    "# Advantages \n",
    "## Fast and efficient for manipulating and analyzing data.\n",
    "## Data from different file objects can be loaded.\n",
    "## Easy handling of missing data (represented as NaN) in floating point as well as non-floating point data\n",
    "## Size mutability: columns can be inserted and deleted from DataFrame and higher dimensional objects\n",
    "## Data set merging and joining.\n",
    "## Flexible reshaping and pivoting of data sets\n",
    "## Provides time-series functionality.\n",
    "## Powerful group by functionality for performing split-apply-combine operations on data sets."
   ]
  },
  {
   "cell_type": "markdown",
   "id": "dd9474eb-1235-47cd-b2c5-a16e879805a2",
   "metadata": {},
   "source": [
    "# Need to import the library"
   ]
  },
  {
   "cell_type": "code",
   "execution_count": 1,
   "id": "d1b850db-f8a3-42be-bfae-2988d51f2b72",
   "metadata": {},
   "outputs": [],
   "source": [
    "import pandas as pd"
   ]
  },
  {
   "cell_type": "markdown",
   "id": "88b6cc16-cdf0-4d2d-9a5d-8a07ab9bf2e7",
   "metadata": {},
   "source": [
    "## Pandas gives you answers about the data. Like:\n",
    "## Is there a correlation between two or more columns\n",
    "## What is average value\n",
    "## Max value\n",
    "## Min value\n",
    "## Pandas are also able to delete rows that are not relevant, or contains wrong values, like empty or NULL values. This is called cleaning the data."
   ]
  },
  {
   "cell_type": "markdown",
   "id": "d96dd4c9-71f8-407b-a32b-aae9d617a2da",
   "metadata": {},
   "source": [
    "## Installation of Pandas\n",
    "## If you have Python and PIP already installed on a system, then installation of Pandas is very easy.\n",
    "## Install it using this command:\n",
    "## C:\\Users\\Your Name>pip install pandas"
   ]
  },
  {
   "cell_type": "code",
   "execution_count": 4,
   "id": "1dc11076-abde-432c-9324-a01263c2b85e",
   "metadata": {},
   "outputs": [
    {
     "name": "stdout",
     "output_type": "stream",
     "text": [
      "    cars  passings\n",
      "0    BMW         3\n",
      "1  Volvo         7\n",
      "2   Ford         2\n"
     ]
    }
   ],
   "source": [
    "import pandas # import statement \n",
    "\n",
    "mydataset = {\n",
    "  'cars': [\"BMW\", \"Volvo\", \"Ford\"],\n",
    "  'passings': [3, 7, 2]\n",
    "}\n",
    "\n",
    "myvar = pandas.DataFrame(mydataset)\n",
    "\n",
    "print(myvar)"
   ]
  },
  {
   "cell_type": "markdown",
   "id": "96edcbdf-c605-439b-b993-8e4d28771308",
   "metadata": {},
   "source": [
    "## Pandas as pd\n",
    "## Pandas is usually imported under the pd alias.\n",
    "## alias: In Python alias are an alternate name for referring to the same thing"
   ]
  },
  {
   "cell_type": "code",
   "execution_count": 7,
   "id": "b34cef39-2bf2-4197-afe0-d404f5f06f57",
   "metadata": {},
   "outputs": [
    {
     "name": "stdout",
     "output_type": "stream",
     "text": [
      "1.3.4\n"
     ]
    }
   ],
   "source": [
    "## Checking Pandas Version\n",
    "## The version string is stored under __version__ attribute.\n",
    "import pandas as pd\n",
    "\n",
    "print(pd.__version__)"
   ]
  },
  {
   "cell_type": "code",
   "execution_count": null,
   "id": "d1e93668-8850-42ca-8f2a-fbc941e551e9",
   "metadata": {},
   "outputs": [],
   "source": [
    "import pandas as pd\n"
   ]
  },
  {
   "cell_type": "code",
   "execution_count": 67,
   "id": "ce67a79a-d9b8-4f77-85cd-ce709d9cfc3c",
   "metadata": {},
   "outputs": [
    {
     "name": "stdout",
     "output_type": "stream",
     "text": [
      "     Gender    Age Education Level Institution Type IT Student Location  \\\n",
      "0       Boy  21-25      University   Non Government         No      Yes   \n",
      "1      Girl  21-25      University   Non Government         No      Yes   \n",
      "2      Girl  16-20         College       Government         No      Yes   \n",
      "3      Girl  11-15          School   Non Government         No      Yes   \n",
      "4      Girl  16-20          School   Non Government         No      Yes   \n",
      "...     ...    ...             ...              ...        ...      ...   \n",
      "1200   Girl  16-20         College   Non Government         No      Yes   \n",
      "1201   Girl  16-20         College   Non Government         No       No   \n",
      "1202    Boy  11-15          School   Non Government         No      Yes   \n",
      "1203   Girl  16-20         College   Non Government         No       No   \n",
      "1204   Girl  11-15          School   Non Government         No      Yes   \n",
      "\n",
      "     Load-shedding Financial Condition Internet Type Network Type  \\\n",
      "0              Low                 Mid          Wifi           4G   \n",
      "1             High                 Mid   Mobile Data           4G   \n",
      "2              Low                 Mid          Wifi           4G   \n",
      "3              Low                 Mid   Mobile Data           4G   \n",
      "4              Low                Poor   Mobile Data           3G   \n",
      "...            ...                 ...           ...          ...   \n",
      "1200           Low                 Mid          Wifi           4G   \n",
      "1201          High                 Mid          Wifi           4G   \n",
      "1202           Low                 Mid   Mobile Data           3G   \n",
      "1203           Low                 Mid          Wifi           4G   \n",
      "1204           Low                Poor   Mobile Data           3G   \n",
      "\n",
      "     Class Duration Self Lms  Device Adaptivity Level  \n",
      "0               3-6       No     Tab         Moderate  \n",
      "1               1-3      Yes  Mobile         Moderate  \n",
      "2               1-3       No  Mobile         Moderate  \n",
      "3               1-3       No  Mobile         Moderate  \n",
      "4                 0       No  Mobile              Low  \n",
      "...             ...      ...     ...              ...  \n",
      "1200            1-3       No  Mobile              Low  \n",
      "1201            3-6       No  Mobile         Moderate  \n",
      "1202            1-3       No  Mobile         Moderate  \n",
      "1203            1-3       No  Mobile              Low  \n",
      "1204            1-3       No  Mobile         Moderate  \n",
      "\n",
      "[1205 rows x 14 columns]\n"
     ]
    }
   ],
   "source": [
    "x =pd.read_csv(r'C:\\Users\\DELL\\Downloads\\archive\\students_adaptability_level_online_education.csv')\n",
    "print(x)"
   ]
  },
  {
   "cell_type": "markdown",
   "id": "aa7e364a-fc37-4e7a-ab11-a541158ce537",
   "metadata": {},
   "source": [
    "# Pandas Series"
   ]
  },
  {
   "cell_type": "markdown",
   "id": "4d4146a5-96db-4e59-86b7-ec5a713983f4",
   "metadata": {},
   "source": [
    "## A Pandas Series is like a column in a table.\n",
    "\n",
    "## It is a one-dimensional array holding data of any type"
   ]
  },
  {
   "cell_type": "code",
   "execution_count": 9,
   "id": "fd6eb35a-125a-4ce5-b381-a14135dcea11",
   "metadata": {},
   "outputs": [
    {
     "name": "stdout",
     "output_type": "stream",
     "text": [
      "0    1\n",
      "1    7\n",
      "2    2\n",
      "dtype: int64\n"
     ]
    }
   ],
   "source": [
    "import pandas as pd\n",
    "\n",
    "a = [1, 7, 2]\n",
    "\n",
    "myvar = pd.Series(a) #simple panda series for list [myvar = pd.Series(a)]\n",
    "\n",
    "print(myvar)\n"
   ]
  },
  {
   "cell_type": "markdown",
   "id": "f96de4f9-6d6c-4e27-8d04-5d71ae6430f6",
   "metadata": {},
   "source": [
    "# Labels\n",
    "## If nothing else is specified, the values are labeled with their index number. First value has index 0, second value has index 1 etc.\n",
    "## This label can be used to access a specified value."
   ]
  },
  {
   "cell_type": "code",
   "execution_count": 10,
   "id": "f8a28aad-2299-416d-8472-ecb74e0f6f18",
   "metadata": {},
   "outputs": [
    {
     "name": "stdout",
     "output_type": "stream",
     "text": [
      "1\n"
     ]
    }
   ],
   "source": [
    "import pandas as pd\n",
    "\n",
    "a = [1, 7, 2]\n",
    "\n",
    "myvar = pd.Series(a)\n",
    "\n",
    "print(myvar[0])\n"
   ]
  },
  {
   "cell_type": "markdown",
   "id": "7dde3d22-ad76-4814-a558-cd57a584220b",
   "metadata": {},
   "source": [
    "# Create Labels\n",
    "## With the index argument, you can name your own labels."
   ]
  },
  {
   "cell_type": "code",
   "execution_count": 12,
   "id": "3a275c65-2dc8-48a2-92f5-e0154e1e66b7",
   "metadata": {},
   "outputs": [
    {
     "name": "stdout",
     "output_type": "stream",
     "text": [
      "x    1\n",
      "y    7\n",
      "z    2\n",
      "dtype: int64\n",
      "7\n"
     ]
    }
   ],
   "source": [
    "import pandas as pd\n",
    "\n",
    "a = [1, 7, 2]\n",
    "\n",
    "myvar = pd.Series(a, index = [\"x\", \"y\", \"z\"])\n",
    "\n",
    "print(myvar)\n",
    "\n",
    "# When you have created labels, you can access an item by referring to the label.\n",
    "print(myvar[\"y\"])"
   ]
  },
  {
   "cell_type": "markdown",
   "id": "634e4650-d169-4db2-a0ab-7085d0b9cc6d",
   "metadata": {},
   "source": [
    "# Key/Value Objects as Series\n",
    "## You can also use a key/value object, like a dictionary, when creating a Series.\n",
    "## The keys of the dictionary become the labels."
   ]
  },
  {
   "cell_type": "code",
   "execution_count": 16,
   "id": "4f9852aa-047d-4569-a8b0-d2be5bab7964",
   "metadata": {},
   "outputs": [
    {
     "name": "stdout",
     "output_type": "stream",
     "text": [
      "day1    420\n",
      "day2    380\n",
      "day3    390\n",
      "dtype: int64\n",
      "day1    420\n",
      "day2    380\n",
      "dtype: int64\n"
     ]
    }
   ],
   "source": [
    "import pandas as pd\n",
    "\n",
    "calories = {\"day1\": 420, \"day2\": 380, \"day3\": 390}\n",
    "\n",
    "myvar = pd.Series(calories)\n",
    "\n",
    "print(myvar)\n",
    "\n",
    "## To select only some of the items in the dictionary, use the index argument and specify only the items you want to include in the Series.\n",
    "import pandas as pd\n",
    "\n",
    "calories = {\"day1\": 420, \"day2\": 380, \"day3\": 390}\n",
    "\n",
    "myvar = pd.Series(calories, index = [\"day1\", \"day2\"])\n",
    "\n",
    "print(myvar)"
   ]
  },
  {
   "cell_type": "markdown",
   "id": "7629a651-e8f5-4f14-ba9d-f430d3273817",
   "metadata": {},
   "source": [
    "# DataFrames\n",
    "## Data sets in Pandas are usually multi-dimensional tables, called DataFrames.\n",
    "## Series is like a column, a DataFrame is the whole table."
   ]
  },
  {
   "cell_type": "code",
   "execution_count": 17,
   "id": "06202226-217f-4dad-aa43-f02bc00d76ff",
   "metadata": {},
   "outputs": [
    {
     "name": "stdout",
     "output_type": "stream",
     "text": [
      "   calories  duration\n",
      "0       420        50\n",
      "1       380        40\n",
      "2       390        45\n"
     ]
    }
   ],
   "source": [
    "import pandas as pd\n",
    "\n",
    "data = {\n",
    "  \"calories\": [420, 380, 390],     #Create a DataFrame from two Series\n",
    "  \"duration\": [50, 40, 45]\n",
    "}\n",
    "\n",
    "myvar = pd.DataFrame(data)\n",
    "\n",
    "print(myvar)"
   ]
  },
  {
   "cell_type": "markdown",
   "id": "16927621-d5c3-4e75-a918-13e37dff50d4",
   "metadata": {},
   "source": [
    "# Pandas DataFrames\n",
    "# A Pandas DataFrame is a 2 dimensional data structure, like a 2 dimensional array, or a table with rows and columns."
   ]
  },
  {
   "cell_type": "code",
   "execution_count": 18,
   "id": "57d2ca3c-30e3-478e-a455-78b4c2f14313",
   "metadata": {},
   "outputs": [
    {
     "name": "stdout",
     "output_type": "stream",
     "text": [
      "   calories  duration\n",
      "0       420        50\n",
      "1       380        40\n",
      "2       390        45\n"
     ]
    }
   ],
   "source": [
    "import pandas as pd\n",
    "\n",
    "data = {\n",
    "  \"calories\": [420, 380, 390],\n",
    "  \"duration\": [50, 40, 45]\n",
    "}\n",
    "\n",
    "#load data into a DataFrame object:\n",
    "df = pd.DataFrame(data)\n",
    "\n",
    "print(df) "
   ]
  },
  {
   "cell_type": "markdown",
   "id": "4620a69f-9574-4577-854e-9eaa5917f26a",
   "metadata": {},
   "source": [
    "## Locate Row\n",
    "## As you can see from the result above, the DataFrame is like a table with rows and columns.\n",
    "## Pandas use the loc attribute to return one or more specified row(s)\n",
    "##  When using [], the result is a Pandas DataFrame"
   ]
  },
  {
   "cell_type": "code",
   "execution_count": 23,
   "id": "9d6c4720-4371-4851-8e93-b8d39ec8b0d1",
   "metadata": {},
   "outputs": [
    {
     "name": "stdout",
     "output_type": "stream",
     "text": [
      "calories    420\n",
      "duration     50\n",
      "Name: 0, dtype: int64\n",
      "   calories  duration\n",
      "0       420        50\n",
      "1       380        40\n"
     ]
    }
   ],
   "source": [
    "#refer to the row index:\n",
    "print(df.loc[0]) #This example returns a Pandas Series \n",
    "\n",
    "\n",
    "#use a list of indexes:\n",
    "print(df.loc[[0, 1]]) #Return row 0 and 1 &  When using [], the result is a Pandas DataFrame"
   ]
  },
  {
   "cell_type": "markdown",
   "id": "cbdf5d1e-3a03-4103-b9b4-dd2329750c8b",
   "metadata": {},
   "source": [
    "## Named Indexes\n",
    "## With the index argument, you can name your own indexes."
   ]
  },
  {
   "cell_type": "code",
   "execution_count": 26,
   "id": "70d4ebff-7f4e-4db8-9477-fa3bb2f13678",
   "metadata": {},
   "outputs": [
    {
     "name": "stdout",
     "output_type": "stream",
     "text": [
      "      calories  duration\n",
      "day1       420        50\n",
      "day2       380        40\n",
      "day3       390        45\n"
     ]
    }
   ],
   "source": [
    "import pandas as pd\n",
    "\n",
    "data = {\n",
    "  \"calories\": [420, 380, 390],\n",
    "  \"duration\": [50, 40, 45]\n",
    "}\n",
    "\n",
    "df = pd.DataFrame(data, index = [\"day1\", \"day2\", \"day3\"]) #Adding a list of names to give each row a name\n",
    "\n",
    "print(df) "
   ]
  },
  {
   "cell_type": "markdown",
   "id": "cf95aa50-7005-425a-8c3b-59896bca64c5",
   "metadata": {},
   "source": [
    "## Locate Named Indexes\n",
    "## Use the named index in the loc attribute to return the specified row(s)."
   ]
  },
  {
   "cell_type": "code",
   "execution_count": 28,
   "id": "dcd29837-8917-4cb9-b833-1c8beb8845b8",
   "metadata": {},
   "outputs": [
    {
     "name": "stdout",
     "output_type": "stream",
     "text": [
      "calories    380\n",
      "duration     40\n",
      "Name: day2, dtype: int64\n"
     ]
    }
   ],
   "source": [
    "#refer to the named index:\n",
    "print(df.loc[\"day2\"])"
   ]
  },
  {
   "cell_type": "markdown",
   "id": "980b5da2-3ce1-46e1-bbc5-a1b686d35039",
   "metadata": {},
   "source": [
    "# Load Files Into a DataFrame\n",
    "## If your data sets are stored in a file, Pandas can load them into a DataFrame."
   ]
  },
  {
   "cell_type": "markdown",
   "id": "5ac37a19-ece0-4ae9-9395-a1a25d51cce2",
   "metadata": {},
   "source": [
    "# Pandas Read CSV\n",
    "# Comma Separated Value\n"
   ]
  },
  {
   "cell_type": "markdown",
   "id": "f56d8986-5990-4075-8a78-97804782a7bc",
   "metadata": {},
   "source": [
    "# Read CSV Files\n",
    "## A simple way to store big data sets is to use CSV files (comma separated files).\n",
    "## CSV files contains plain text and is a well know format that can be read by everyone including Pandas.\n",
    "## Excel file has extension of (.xls/.xlsx"
   ]
  },
  {
   "cell_type": "markdown",
   "id": "d79f9c54-1734-4ff2-8bb6-942777e29f46",
   "metadata": {},
   "source": [
    "## Creating DataFrame from dict of nd array/lists"
   ]
  },
  {
   "cell_type": "markdown",
   "id": "12a48a99-9a21-4041-b4c3-0eeed39c24bf",
   "metadata": {},
   "source": [
    "## To create DataFrame from dict of narray/list, all the narray must be of same length. \n",
    "## If index is passed then the length index should be equal to the length of arrays.\n",
    "## If no index is passed, then by default, index will be range(n) where n is the array length."
   ]
  },
  {
   "cell_type": "code",
   "execution_count": 46,
   "id": "590a57c9-1a2a-48e7-9bbe-2a9b5ad8ce57",
   "metadata": {},
   "outputs": [
    {
     "name": "stdout",
     "output_type": "stream",
     "text": [
      "       Name  Age\n",
      "0    Anurag   20\n",
      "1  Abhishek   21\n",
      "2    Amresh   19\n",
      "3     sunny   18\n"
     ]
    }
   ],
   "source": [
    "# Python code demonstrate creating \n",
    "# DataFrame from dict narray / lists \n",
    "# By default addresses.\n",
    " \n",
    "import pandas as pd\n",
    " \n",
    "# intialise data of lists.\n",
    "data = {'Name':['Anurag', 'Abhishek', 'Amresh', 'sunny'],\n",
    "        'Age':[20, 21, 19, 18]}\n",
    " \n",
    "# Create DataFrame\n",
    "df = pd.DataFrame(data)\n",
    " \n",
    "# Print the output.\n",
    "print(df)"
   ]
  },
  {
   "cell_type": "markdown",
   "id": "43bbe4e6-9aba-49e8-b475-130ecaa6484b",
   "metadata": {},
   "source": [
    "# Dealing with Rows and Columns"
   ]
  },
  {
   "cell_type": "markdown",
   "id": "b18caa05-7bee-419c-ad53-696fbe93675e",
   "metadata": {},
   "source": [
    "## A Data frame is a two-dimensional data structure, i.e., data is aligned in a tabular fashion in rows and columns.\n",
    "## We can perform basic operations on rows/columns like selecting, deleting, adding, and renaming.\n",
    "## Column Selection: In Order to select a column in Pandas DataFrame, we can either access the columns by calling them by their columns name."
   ]
  },
  {
   "cell_type": "code",
   "execution_count": 47,
   "id": "c9c0ac7c-34e5-4a88-856f-85cd1d0b7b7d",
   "metadata": {},
   "outputs": [
    {
     "name": "stdout",
     "output_type": "stream",
     "text": [
      "     Name Qualification\n",
      "0     Jai           Msc\n",
      "1  Princi            MA\n",
      "2  Gaurav           MCA\n",
      "3    Anuj           Phd\n"
     ]
    }
   ],
   "source": [
    "import pandas as pd # Import pandas package\n",
    " \n",
    "data = {'Name':['Jai', 'Princi', 'Gaurav', 'Anuj'], # Define a dictionary containing employee data\n",
    "        'Age':[27, 24, 22, 32],\n",
    "        'Address':['Delhi', 'Kanpur', 'Allahabad', 'Kannauj'],\n",
    "        'Qualification':['Msc', 'MA', 'MCA', 'Phd']}\n",
    "\n",
    "df = pd.DataFrame(data)   # Convert the dictionary into DataFrame \n",
    "print(df[['Name', 'Qualification']]) # select two columns\n"
   ]
  },
  {
   "cell_type": "markdown",
   "id": "12969aa8-f4ad-4829-9db0-458a728ed0a4",
   "metadata": {},
   "source": [
    "## Row Selection: Pandas provide a unique method to retrieve rows from a Data frame. DataFrame.\n",
    "## loc[] method is used to retrieve rows from Pandas DataFrame. \n",
    "## Rows can also be selected by passing integer location to an iloc[] function.\n"
   ]
  },
  {
   "cell_type": "markdown",
   "id": "9cd6a71f-93db-4ba3-8565-216444f1f224",
   "metadata": {},
   "source": [
    "# Working with Missing Data\n",
    "## Missing Data can occur when no information is provided for one or more items or for a whole unit.\n",
    "## Missing Data is a very big problem in real life scenario.\n",
    "## Missing Data can also refer to as NA(Not Available) values in pandas.\n",
    "\n",
    "## Checking for missing values using isnull() and notnull() :\n",
    "## In order to check missing values in Pandas DataFrame, we use a function isnull() and notnull(). \n",
    "## Both function help in checking whether a value is NaN or not. \n",
    "## These function can also be used in Pandas Series in order to find null values in a series."
   ]
  },
  {
   "cell_type": "code",
   "execution_count": 68,
   "id": "8e7b3be2-ab09-4e60-8a15-fbc86778b2d6",
   "metadata": {},
   "outputs": [
    {
     "data": {
      "text/html": [
       "<div>\n",
       "<style scoped>\n",
       "    .dataframe tbody tr th:only-of-type {\n",
       "        vertical-align: middle;\n",
       "    }\n",
       "\n",
       "    .dataframe tbody tr th {\n",
       "        vertical-align: top;\n",
       "    }\n",
       "\n",
       "    .dataframe thead th {\n",
       "        text-align: right;\n",
       "    }\n",
       "</style>\n",
       "<table border=\"1\" class=\"dataframe\">\n",
       "  <thead>\n",
       "    <tr style=\"text-align: right;\">\n",
       "      <th></th>\n",
       "      <th>First Score</th>\n",
       "      <th>Second Score</th>\n",
       "      <th>Third Score</th>\n",
       "    </tr>\n",
       "  </thead>\n",
       "  <tbody>\n",
       "    <tr>\n",
       "      <th>0</th>\n",
       "      <td>False</td>\n",
       "      <td>False</td>\n",
       "      <td>True</td>\n",
       "    </tr>\n",
       "    <tr>\n",
       "      <th>1</th>\n",
       "      <td>False</td>\n",
       "      <td>False</td>\n",
       "      <td>False</td>\n",
       "    </tr>\n",
       "    <tr>\n",
       "      <th>2</th>\n",
       "      <td>True</td>\n",
       "      <td>False</td>\n",
       "      <td>False</td>\n",
       "    </tr>\n",
       "    <tr>\n",
       "      <th>3</th>\n",
       "      <td>False</td>\n",
       "      <td>True</td>\n",
       "      <td>False</td>\n",
       "    </tr>\n",
       "  </tbody>\n",
       "</table>\n",
       "</div>"
      ],
      "text/plain": [
       "   First Score  Second Score  Third Score\n",
       "0        False         False         True\n",
       "1        False         False        False\n",
       "2         True         False        False\n",
       "3        False          True        False"
      ]
     },
     "execution_count": 68,
     "metadata": {},
     "output_type": "execute_result"
    }
   ],
   "source": [
    "# importing pandas as pd\n",
    "import pandas as pd\n",
    " \n",
    "# importing numpy as np\n",
    "import numpy as np\n",
    " \n",
    "# dictionary of lists\n",
    "dict = {'First Score':[100, 90, np.nan, 95],\n",
    "        'Second Score': [30, 45, 56, np.nan],\n",
    "        'Third Score':[np.nan, 40, 80, 98]}\n",
    " \n",
    "# creating a dataframe from list\n",
    "df = pd.DataFrame(dict)\n",
    " \n",
    "# using isnull() function  \n",
    "df.isnull()"
   ]
  },
  {
   "cell_type": "markdown",
   "id": "76c1e3f6-54f7-4777-b3af-fdab0fca8747",
   "metadata": {},
   "source": [
    "# Filling missing values using fillna(), replace() and interpolate() :\n",
    "## In order to fill null values in a datasets, we use fillna(), replace() and interpolate() function these function replace NaN values with some value of their own.\n",
    "## All these function help in filling a null values in datasets of a DataFrame.\n",
    "## Interpolate() function is basically used to fill NA values in the dataframe but it uses various interpolation technique to fill the missing values rather than hard-coding the value."
   ]
  },
  {
   "cell_type": "code",
   "execution_count": 69,
   "id": "2b12a8b2-19d9-4cd5-beee-f6195e3f3e36",
   "metadata": {},
   "outputs": [
    {
     "data": {
      "text/html": [
       "<div>\n",
       "<style scoped>\n",
       "    .dataframe tbody tr th:only-of-type {\n",
       "        vertical-align: middle;\n",
       "    }\n",
       "\n",
       "    .dataframe tbody tr th {\n",
       "        vertical-align: top;\n",
       "    }\n",
       "\n",
       "    .dataframe thead th {\n",
       "        text-align: right;\n",
       "    }\n",
       "</style>\n",
       "<table border=\"1\" class=\"dataframe\">\n",
       "  <thead>\n",
       "    <tr style=\"text-align: right;\">\n",
       "      <th></th>\n",
       "      <th>First Score</th>\n",
       "      <th>Second Score</th>\n",
       "      <th>Third Score</th>\n",
       "    </tr>\n",
       "  </thead>\n",
       "  <tbody>\n",
       "    <tr>\n",
       "      <th>0</th>\n",
       "      <td>100.0</td>\n",
       "      <td>30.0</td>\n",
       "      <td>0.0</td>\n",
       "    </tr>\n",
       "    <tr>\n",
       "      <th>1</th>\n",
       "      <td>90.0</td>\n",
       "      <td>45.0</td>\n",
       "      <td>40.0</td>\n",
       "    </tr>\n",
       "    <tr>\n",
       "      <th>2</th>\n",
       "      <td>0.0</td>\n",
       "      <td>56.0</td>\n",
       "      <td>80.0</td>\n",
       "    </tr>\n",
       "    <tr>\n",
       "      <th>3</th>\n",
       "      <td>95.0</td>\n",
       "      <td>0.0</td>\n",
       "      <td>98.0</td>\n",
       "    </tr>\n",
       "  </tbody>\n",
       "</table>\n",
       "</div>"
      ],
      "text/plain": [
       "   First Score  Second Score  Third Score\n",
       "0        100.0          30.0          0.0\n",
       "1         90.0          45.0         40.0\n",
       "2          0.0          56.0         80.0\n",
       "3         95.0           0.0         98.0"
      ]
     },
     "execution_count": 69,
     "metadata": {},
     "output_type": "execute_result"
    }
   ],
   "source": [
    "# importing pandas as pd\n",
    "import pandas as pd\n",
    " \n",
    "# importing numpy as np\n",
    "import numpy as np\n",
    " \n",
    "# dictionary of lists\n",
    "dict = {'First Score':[100, 90, np.nan, 95],\n",
    "        'Second Score': [30, 45, 56, np.nan],\n",
    "        'Third Score':[np.nan, 40, 80, 98]}\n",
    " \n",
    "# creating a dataframe from dictionary\n",
    "df = pd.DataFrame(dict)\n",
    " \n",
    "# filling missing value using fillna()  \n",
    "df.fillna(0)"
   ]
  },
  {
   "cell_type": "markdown",
   "id": "2bb2c20e-c7f8-4f04-aa39-351790ff7776",
   "metadata": {},
   "source": [
    "# Dropping missing values using dropna() :\n",
    "## In order to drop a null values from a dataframe, we used dropna() function this fuction drop Rows/Columns of datasets\n",
    "## with Null values in different ways."
   ]
  },
  {
   "cell_type": "code",
   "execution_count": 70,
   "id": "3e67bfee-19b8-41da-819e-aa4be87b1e05",
   "metadata": {},
   "outputs": [
    {
     "data": {
      "text/html": [
       "<div>\n",
       "<style scoped>\n",
       "    .dataframe tbody tr th:only-of-type {\n",
       "        vertical-align: middle;\n",
       "    }\n",
       "\n",
       "    .dataframe tbody tr th {\n",
       "        vertical-align: top;\n",
       "    }\n",
       "\n",
       "    .dataframe thead th {\n",
       "        text-align: right;\n",
       "    }\n",
       "</style>\n",
       "<table border=\"1\" class=\"dataframe\">\n",
       "  <thead>\n",
       "    <tr style=\"text-align: right;\">\n",
       "      <th></th>\n",
       "      <th>First Score</th>\n",
       "      <th>Second Score</th>\n",
       "      <th>Third Score</th>\n",
       "      <th>Fourth Score</th>\n",
       "    </tr>\n",
       "  </thead>\n",
       "  <tbody>\n",
       "    <tr>\n",
       "      <th>0</th>\n",
       "      <td>100.0</td>\n",
       "      <td>30.0</td>\n",
       "      <td>52</td>\n",
       "      <td>NaN</td>\n",
       "    </tr>\n",
       "    <tr>\n",
       "      <th>1</th>\n",
       "      <td>90.0</td>\n",
       "      <td>NaN</td>\n",
       "      <td>40</td>\n",
       "      <td>NaN</td>\n",
       "    </tr>\n",
       "    <tr>\n",
       "      <th>2</th>\n",
       "      <td>NaN</td>\n",
       "      <td>45.0</td>\n",
       "      <td>80</td>\n",
       "      <td>NaN</td>\n",
       "    </tr>\n",
       "    <tr>\n",
       "      <th>3</th>\n",
       "      <td>95.0</td>\n",
       "      <td>56.0</td>\n",
       "      <td>98</td>\n",
       "      <td>65.0</td>\n",
       "    </tr>\n",
       "  </tbody>\n",
       "</table>\n",
       "</div>"
      ],
      "text/plain": [
       "   First Score  Second Score  Third Score  Fourth Score\n",
       "0        100.0          30.0           52           NaN\n",
       "1         90.0           NaN           40           NaN\n",
       "2          NaN          45.0           80           NaN\n",
       "3         95.0          56.0           98          65.0"
      ]
     },
     "execution_count": 70,
     "metadata": {},
     "output_type": "execute_result"
    }
   ],
   "source": [
    "# importing pandas as pd\n",
    "import pandas as pd\n",
    " \n",
    "# importing numpy as np\n",
    "import numpy as np\n",
    " \n",
    "# dictionary of lists\n",
    "dict = {'First Score':[100, 90, np.nan, 95],\n",
    "        'Second Score': [30, np.nan, 45, 56],\n",
    "        'Third Score':[52, 40, 80, 98],\n",
    "        'Fourth Score':[np.nan, np.nan, np.nan, 65]}\n",
    " \n",
    "# creating a dataframe from dictionary\n",
    "df = pd.DataFrame(dict)\n",
    "   \n",
    "df"
   ]
  },
  {
   "cell_type": "markdown",
   "id": "40fdcdfd-8669-4b2b-90a3-21fd4cabfbc3",
   "metadata": {},
   "source": [
    "# Now we drop rows with at least one Nan value (Null value)"
   ]
  },
  {
   "cell_type": "code",
   "execution_count": 71,
   "id": "0af2b00d-65e3-43f7-8a2d-81710084fe69",
   "metadata": {},
   "outputs": [
    {
     "data": {
      "text/html": [
       "<div>\n",
       "<style scoped>\n",
       "    .dataframe tbody tr th:only-of-type {\n",
       "        vertical-align: middle;\n",
       "    }\n",
       "\n",
       "    .dataframe tbody tr th {\n",
       "        vertical-align: top;\n",
       "    }\n",
       "\n",
       "    .dataframe thead th {\n",
       "        text-align: right;\n",
       "    }\n",
       "</style>\n",
       "<table border=\"1\" class=\"dataframe\">\n",
       "  <thead>\n",
       "    <tr style=\"text-align: right;\">\n",
       "      <th></th>\n",
       "      <th>First Score</th>\n",
       "      <th>Second Score</th>\n",
       "      <th>Third Score</th>\n",
       "      <th>Fourth Score</th>\n",
       "    </tr>\n",
       "  </thead>\n",
       "  <tbody>\n",
       "    <tr>\n",
       "      <th>3</th>\n",
       "      <td>95.0</td>\n",
       "      <td>56.0</td>\n",
       "      <td>98</td>\n",
       "      <td>65.0</td>\n",
       "    </tr>\n",
       "  </tbody>\n",
       "</table>\n",
       "</div>"
      ],
      "text/plain": [
       "   First Score  Second Score  Third Score  Fourth Score\n",
       "3         95.0          56.0           98          65.0"
      ]
     },
     "execution_count": 71,
     "metadata": {},
     "output_type": "execute_result"
    }
   ],
   "source": [
    "# importing pandas as pd\n",
    "import pandas as pd\n",
    " \n",
    "# importing numpy as np\n",
    "import numpy as np\n",
    " \n",
    "# dictionary of lists\n",
    "dict = {'First Score':[100, 90, np.nan, 95],\n",
    "        'Second Score': [30, np.nan, 45, 56],\n",
    "        'Third Score':[52, 40, 80, 98],\n",
    "        'Fourth Score':[np.nan, np.nan, np.nan, 65]}\n",
    " \n",
    "# creating a dataframe from dictionary\n",
    "df = pd.DataFrame(dict)\n",
    " \n",
    "# using dropna() function  \n",
    "df.dropna()"
   ]
  },
  {
   "cell_type": "markdown",
   "id": "ff5a4c07-228c-4bfb-9bb7-4ba25aece912",
   "metadata": {},
   "source": [
    "# Iterating over rows and columns"
   ]
  },
  {
   "cell_type": "markdown",
   "id": "8278d721-c3d7-4b31-bbd3-5027189c7778",
   "metadata": {},
   "source": [
    "# Iteration is a general term for taking each item of something, one after another. \n",
    "## Pandas DataFrame consists of rows and columns so, in order to iterate over dataframe, we have to iterate a dataframe like a dictionary.\n",
    "# Iterating over rows :\n",
    "## In order to iterate over rows, we can use three function iteritems(), iterrows(), itertuples() .\n",
    "## These three function will help in iteration over rows."
   ]
  },
  {
   "cell_type": "code",
   "execution_count": 73,
   "id": "cf6fc4d7-a913-4dc7-83bb-2a12056bb540",
   "metadata": {},
   "outputs": [
    {
     "name": "stdout",
     "output_type": "stream",
     "text": [
      "     name  degree  score\n",
      "0  aparna     MBA     90\n",
      "1  anurag     BCA     40\n",
      "2  sudhir  M.Tech     80\n",
      "3  rajesh     MBA     98\n"
     ]
    }
   ],
   "source": [
    "# importing pandas as pd\n",
    "import pandas as pd\n",
    "  \n",
    "# dictionary of lists\n",
    "dict = {'name':[\"aparna\", \"anurag\", \"sudhir\", \"rajesh\"],\n",
    "        'degree': [\"MBA\", \"BCA\", \"M.Tech\", \"MBA\"],\n",
    "        'score':[90, 40, 80, 98]}\n",
    " \n",
    "# creating a dataframe from a dictionary \n",
    "df = pd.DataFrame(dict)\n",
    " \n",
    "print(df)\n"
   ]
  },
  {
   "cell_type": "markdown",
   "id": "d555deaa-dd87-45dc-a4b9-ee8c0680be0d",
   "metadata": {},
   "source": [
    "# Now we apply iterrows() function in order to get a each element of rows."
   ]
  },
  {
   "cell_type": "code",
   "execution_count": 74,
   "id": "86b6230e-da60-44ae-8bdf-e361b10cdbcd",
   "metadata": {},
   "outputs": [
    {
     "name": "stdout",
     "output_type": "stream",
     "text": [
      "0 name      aparna\n",
      "degree       MBA\n",
      "score         90\n",
      "Name: 0, dtype: object\n",
      "\n",
      "1 name      pankaj\n",
      "degree       BCA\n",
      "score         40\n",
      "Name: 1, dtype: object\n",
      "\n",
      "2 name      sudhir\n",
      "degree    M.Tech\n",
      "score         80\n",
      "Name: 2, dtype: object\n",
      "\n",
      "3 name      Geeku\n",
      "degree      MBA\n",
      "score        98\n",
      "Name: 3, dtype: object\n",
      "\n"
     ]
    }
   ],
   "source": [
    "# importing pandas as pd\n",
    "import pandas as pd\n",
    "  \n",
    "# dictionary of lists\n",
    "dict = {'name':[\"aparna\", \"pankaj\", \"sudhir\", \"Geeku\"],\n",
    "        'degree': [\"MBA\", \"BCA\", \"M.Tech\", \"MBA\"],\n",
    "        'score':[90, 40, 80, 98]}\n",
    " \n",
    "# creating a dataframe from a dictionary \n",
    "df = pd.DataFrame(dict)\n",
    " \n",
    "# iterating over rows using iterrows() function \n",
    "for i, j in df.iterrows():\n",
    "    print(i, j)\n",
    "    print()"
   ]
  },
  {
   "cell_type": "markdown",
   "id": "6a8e08ae-6752-4cd9-89a5-96fd75c14694",
   "metadata": {},
   "source": [
    "# Iterating over Columns :\n",
    "In order to iterate over columns, we need to create a list of dataframe columns and  \n",
    "then iterating through that list to pull out the dataframe columns.\n"
   ]
  },
  {
   "cell_type": "code",
   "execution_count": 77,
   "id": "cf280e5d-571e-48f1-b976-ea87faded0a3",
   "metadata": {},
   "outputs": [
    {
     "name": "stdout",
     "output_type": "stream",
     "text": [
      "       name  degree  score\n",
      "0   shaivya     MBA     90\n",
      "1    anurag     BCA     40\n",
      "2  niharika  M.Tech     80\n",
      "3  sonakshi     MBA     98\n",
      "niharika\n",
      "M.Tech\n",
      "80\n"
     ]
    }
   ],
   "source": [
    "# importing pandas as pd\n",
    "import pandas as pd\n",
    "   \n",
    "# dictionary of lists\n",
    "dict = {'name':[\"shaivya\", \"anurag\", \"niharika\", \"sonakshi\"],\n",
    "        'degree': [\"MBA\", \"BCA\", \"M.Tech\", \"MBA\"],\n",
    "        'score':[90, 40, 80, 98]}\n",
    "  \n",
    "# creating a dataframe from a dictionary \n",
    "df = pd.DataFrame(dict)\n",
    " \n",
    "print(df)\n",
    "# Now we iterate through columns in order to iterate through columns we first create a list of dataframe columns and then iterate through list.\n",
    "# creating a list of dataframe columns\n",
    "columns = list(df)\n",
    " \n",
    "for i in columns:\n",
    " \n",
    "    # printing the third element of the column\n",
    "    print (df[i][2])"
   ]
  },
  {
   "cell_type": "markdown",
   "id": "29fad0a2-4594-42de-84d4-778f00d3d586",
   "metadata": {},
   "source": [
    "# DataFrame Methods:\n",
    "\n",
    "## FUNCTION DESCRIPTION\n",
    "## index()Method returns index (row labels) of the DataFrame\n",
    "## insert()Method inserts a column into a DataFrame\n",
    "## add()Method returns addition of dataframe and other, element-wise (binary operator add)\n",
    "## sub()Method returns subtraction of dataframe and other, element-wise (binary operator sub)\n",
    "## mul()Method returns multiplication of dataframe and other, element-wise (binary operator mul)\n",
    "## div()Method returns floating division of dataframe and other, element-wise (binary operator truediv)\n",
    "## unique()Method extracts the unique values in the dataframe\n",
    "## nunique()Method returns count of the unique values in the dataframe\n",
    "## value_counts()Method counts the number of times each unique value occurs within the Series\n",
    "## columns()Method returns the column labels of the DataFrame\n",
    "## axes()Method returns a list representing the axes of the DataFrame\n",
    "## isnull()Method creates a Boolean Series for extracting rows with null values\n",
    "## notnull()Method creates a Boolean Series for extracting rows with non-null values\n",
    "## between()Method extracts rows where a column value falls in between a predefined range\n",
    "## isin()Method extracts rows from a DataFrame where a column value exists in a predefined collection\n",
    "## dtypes()Method returns a Series with the data type of each column. The result’s index is the original DataFrame’s columns\n",
    "## astype()Method converts the data types in a Series\n",
    "## values()Method returns a Numpy representation of the DataFrame i.e. only the values in the DataFrame\n",
    "will be returned, the axes labels will be removed\n",
    "## sort_values()Set1, Set2\tMethod sorts a data frame in Ascending or Descending order of passed Column\n",
    "## sort_index()Method sorts the values in a DataFrame based on their index positions or labels instead of their\n",
    "values but sometimes a data frame is made out of two or more data frames and hence later index can be changed using this method\n",
    "## loc[]Method retrieves rows based on index label\n",
    "## iloc[]Method retrieves rows based on index position\n",
    "## ix[]Method retrieves DataFrame rows based on either index label or index position.\n",
    "This method combines the best features of the .loc[] and .iloc[] methods\n",
    "## rename()Method is called on a DataFrame to change the names of the index labels or column names\n",
    "## columns()Method is an alternative attribute to change the coloumn name\n",
    "## drop()Method is used to delete rows or columns from a DataFrame\n",
    "## pop()Method is used to delete rows or columns from a DataFrame\n",
    "## sample()Method pulls out a random sample of rows or columns from a DataFrame\n",
    "## nsmallest()Method pulls out the rows with the smallest values in a column\n",
    "## nlargest()Method pulls out the rows with the largest values in a column\n",
    "## shape()Method returns a tuple representing the dimensionality of the DataFrame\n",
    "## ndim()Method returns an ‘int’ representing the number of axes / array dimensions.\n",
    "## Returns 1 if Series, otherwise returns 2 if DataFrame\n",
    "## dropna()Method allows the user to analyze and drop Rows/Columns with Null values in different ways\n",
    "## fillna()Method manages and let the user replace NaN values with some value of their own\n",
    "## rank()Values in a Series can be ranked in order with this method\n",
    "## query()Method is an alternate string-based syntax for extracting a subset from a DataFrame\n",
    "## copy()Method creates an independent copy of a pandas object\n",
    "## duplicated()Method creates a Boolean Series and uses it to extract rows that have duplicate values\n",
    "## drop_duplicates()Method is an alternative option to identifying duplicate rows and removing them through filtering\n",
    "## set_index()Method sets the DataFrame index (row labels) using one or more existing columns\n",
    "## reset_index()Method resets index of a Data Frame. This method sets a list of integer ranging from 0 to length of data as index\n",
    "## where() Method is used to check a Data Frame for one or more condition and return the result accordingly. By default, the rows not satisfying the condition are filled with NaN value"
   ]
  },
  {
   "cell_type": "markdown",
   "id": "d5502c3f-17d4-4a26-a358-f46dd9891617",
   "metadata": {},
   "source": [
    "# Creating a Pandas DataFrame"
   ]
  },
  {
   "cell_type": "markdown",
   "id": "f0f802fc-6d7a-44e1-9878-9a83843a6dfe",
   "metadata": {},
   "source": [
    "In the real world, a Pandas DataFrame will be created by loading the datasets from existing storage, storage can be SQL Database, CSV file, and Excel file. \n",
    "Pandas DataFrame can be created from the lists, dictionary, and from a list of dictionary etc. \n",
    "A Dataframe is a two-dimensional data structure, i.e., data is aligned in a tabular fashion in rows and columns. In dataframe datasets arrange in rows and columns, we can store any number of datasets in a dataframe. We can perform many operations on these datasets like arithmetic operation, columns/rows selection, columns/rows addition etc. \n",
    "# Creating an empty dataframe : \n",
    "A basic DataFrame, which can be created is an Empty Dataframe. An Empty Dataframe is created just by calling a dataframe constructor. \n",
    " "
   ]
  },
  {
   "cell_type": "code",
   "execution_count": 78,
   "id": "253a9b8f-423d-4427-88e0-7ae435891ae2",
   "metadata": {},
   "outputs": [
    {
     "name": "stdout",
     "output_type": "stream",
     "text": [
      "Empty DataFrame\n",
      "Columns: []\n",
      "Index: []\n"
     ]
    }
   ],
   "source": [
    "\n",
    "# import pandas as pd\n",
    "import pandas as pd\n",
    " \n",
    "# Calling DataFrame constructor\n",
    "df = pd.DataFrame()\n",
    " \n",
    "print(df)"
   ]
  },
  {
   "cell_type": "markdown",
   "id": "93e65a09-c3ed-4048-add6-ad06ebb64f00",
   "metadata": {},
   "source": [
    "# Creating a dataframe using List: \n",
    "DataFrame can be created using a single list or a list of lists. "
   ]
  },
  {
   "cell_type": "code",
   "execution_count": 80,
   "id": "f11cd8a1-3a5c-42e7-8bd5-f655394ef1c1",
   "metadata": {},
   "outputs": [
    {
     "name": "stdout",
     "output_type": "stream",
     "text": [
      "          0\n",
      "0    Python\n",
      "1        is\n",
      "2      most\n",
      "3   popular\n",
      "4  language\n"
     ]
    }
   ],
   "source": [
    "# import pandas as pd\n",
    "import pandas as pd\n",
    " \n",
    "# list of strings\n",
    "lst = ['Python', 'is', 'most', 'popular',\n",
    "            'language']\n",
    " \n",
    "# Calling DataFrame constructor on list\n",
    "df = pd.DataFrame(lst)\n",
    "print(df)"
   ]
  },
  {
   "cell_type": "markdown",
   "id": "3a92854b-2084-42ad-af0c-58fe19cb021e",
   "metadata": {},
   "source": [
    "# Creating DataFrame from dict of ndarray/lists: \n",
    "To create DataFrame from dict of narray/list, all the narray must be of same length.\n",
    "If index is passed then the length index should be equal to the length of arrays.\n",
    "If no index is passed, then by default, index will be range(n) where n is the array length. \n",
    " "
   ]
  },
  {
   "cell_type": "code",
   "execution_count": 81,
   "id": "2885ce0b-a0e8-4dbe-940c-ad4f5dcd2d00",
   "metadata": {},
   "outputs": [
    {
     "name": "stdout",
     "output_type": "stream",
     "text": [
      "       Name  Age\n",
      "0    anurag   20\n",
      "1     vivek   21\n",
      "2  abhishek   19\n",
      "3    jitesh   18\n"
     ]
    }
   ],
   "source": [
    "import pandas as pd\n",
    " \n",
    "# initialise data of lists.\n",
    "data = {'Name':['anurag', 'vivek', 'abhishek', 'jitesh'], 'Age':[20, 21, 19, 18]}\n",
    " \n",
    "# Create DataFrame\n",
    "df = pd.DataFrame(data)\n",
    " \n",
    "# Print the output.\n",
    "print(df)"
   ]
  },
  {
   "cell_type": "markdown",
   "id": "89d7379e-3ab0-4173-b0b8-19aab19487b5",
   "metadata": {},
   "source": [
    "# Create pandas dataframe from lists using dictionary: \n",
    "Creating pandas data-frame from lists using dictionary can be achieved in different ways.\n",
    "We can create pandas dataframe from lists using dictionary using pandas.DataFrame.\n",
    "With this method in Pandas we can transform a dictionary of list to a dataframe."
   ]
  },
  {
   "cell_type": "code",
   "execution_count": 84,
   "id": "99fa253d-0891-4d27-9a0e-87143cae5234",
   "metadata": {},
   "outputs": [
    {
     "name": "stdout",
     "output_type": "stream",
     "text": [
      "     name  degree  score\n",
      "0  aparna     MBA     90\n",
      "1  pankaj     BCA     40\n",
      "2  sudhir  M.Tech     80\n",
      "3  rajesh     MBA     98\n"
     ]
    }
   ],
   "source": [
    "# importing pandas as pd\n",
    "import pandas as pd\n",
    " \n",
    "# dictionary of lists\n",
    "dict = {'name':[\"aparna\", \"pankaj\", \"sudhir\", \"rajesh\"],\n",
    "        'degree': [\"MBA\", \"BCA\", \"M.Tech\", \"MBA\"],\n",
    "        'score':[90, 40, 80, 98]}\n",
    " \n",
    "df = pd.DataFrame(dict)\n",
    " \n",
    "print(df)"
   ]
  },
  {
   "cell_type": "code",
   "execution_count": null,
   "id": "b3085057-74e9-40ad-8e16-71997f210c0a",
   "metadata": {},
   "outputs": [],
   "source": []
  }
 ],
 "metadata": {
  "kernelspec": {
   "display_name": "Python 3 (ipykernel)",
   "language": "python",
   "name": "python3"
  },
  "language_info": {
   "codemirror_mode": {
    "name": "ipython",
    "version": 3
   },
   "file_extension": ".py",
   "mimetype": "text/x-python",
   "name": "python",
   "nbconvert_exporter": "python",
   "pygments_lexer": "ipython3",
   "version": "3.9.7"
  }
 },
 "nbformat": 4,
 "nbformat_minor": 5
}
