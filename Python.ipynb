{
 "cells": [
  {
   "cell_type": "markdown",
   "id": "83d2d7c6-13aa-4cc8-99ea-50a2c0efd260",
   "metadata": {
    "tags": []
   },
   "source": [
    "## Anurag Blog"
   ]
  },
  {
   "cell_type": "markdown",
   "id": "b87ba14a-9dca-4957-aa61-db0ae8db151e",
   "metadata": {},
   "source": [
    "## Python"
   ]
  },
  {
   "cell_type": "markdown",
   "id": "8088478e-abef-4c2d-8a50-35a6b25e6a56",
   "metadata": {},
   "source": [
    "## Python is a popular programming language. It was created by Guido van Rossum, and released in 1991.\n",
    "\n",
    "It is used for:\n",
    "\n",
    "web development (server-side),\n",
    "software development,\n",
    "mathematics,\n",
    "system scripting.\n",
    "Python can be used on a server to create web applications.\n",
    "Python can be used alongside software to create workflows.\n",
    "Python can connect to database systems. It can also read and modify files.\n",
    "Python can be used to handle big data and perform complex mathematics.\n",
    "Python can be used for rapid prototyping, or for production-ready software development.\n",
    "Python works on different platforms (Windows, Mac, Linux, Raspberry Pi, etc).\n",
    "Python has a simple syntax similar to the English language.\n",
    "Python has syntax that allows developers to write programs with fewer lines than some other programming languages.\n",
    "Python runs on an interpreter system, meaning that code can be executed as soon as it is written. This means that prototyping can be very quick.\n",
    "Python can be treated in a procedural way, an object-oriented way or a functional way."
   ]
  },
  {
   "cell_type": "code",
   "execution_count": 4,
   "id": "6c9e359b-c4c5-44c6-945c-74beb546a01a",
   "metadata": {},
   "outputs": [
    {
     "name": "stdout",
     "output_type": "stream",
     "text": [
      "Hello world! \n"
     ]
    }
   ],
   "source": [
    "#Sample Hello World Program\n",
    "print(\"Hello world! \")"
   ]
  },
  {
   "cell_type": "markdown",
   "id": "3a6f67ef-5387-439f-823a-13b1139d8d0f",
   "metadata": {},
   "source": [
    "## Python Syntax"
   ]
  },
  {
   "cell_type": "markdown",
   "id": "0f7f1e2e-dbe0-4a73-b938-a9005645e6da",
   "metadata": {},
   "source": [
    "Python was designed for readability, and has some similarities to the English language with influence from mathematics.\n",
    "It uses new lines to complete a command, as opposed to other programming languages which often use semicolons or parentheses.\n",
    "Python relies on indentation, using whitespace, to define scope; such as the scope of loops, functions and classes. Other programming languages often use curly-brackets for this purpose."
   ]
  },
  {
   "cell_type": "code",
   "execution_count": 13,
   "id": "4dcb0105-9a95-4a38-8de0-62e8f63eb6ed",
   "metadata": {},
   "outputs": [
    {
     "name": "stdout",
     "output_type": "stream",
     "text": [
      "My Nameis Anurag Srivastava!\n"
     ]
    }
   ],
   "source": [
    "#Sample Program\n",
    "# indentation \n",
    "#IfElse statement\n",
    "    \n",
    "name = 'Anurag'\n",
    "    \n",
    "if name == 'Anurag': \n",
    "    print('My Nameis Anurag Srivastava!') \n",
    "else: \n",
    "    print('I am Anurag!') \n",
    "    print('All is Good !') \n",
    "#The lines print(‘My name is Anurag Srivastava!’) and print(‘I am Anurag’) are two separate code blocks. \n",
    "#The two blocks of code in our example if-statement are both indented four spaces. \n",
    "#The final print(‘All is Good!’) is not indented, and so it does not belong to the else-block."
   ]
  },
  {
   "cell_type": "code",
   "execution_count": 15,
   "id": "300008b5-03e6-4543-aa96-e6ec696d7e6f",
   "metadata": {},
   "outputs": [
    {
     "name": "stdout",
     "output_type": "stream",
     "text": [
      "It's a bit cold\n",
      "Done\n"
     ]
    }
   ],
   "source": [
    "#If Statements to make decision in our program\n",
    "temprature = 15\n",
    "\n",
    "if temprature > 30: #if temprature is geater than\n",
    "    print(\"It's a hot day\")\n",
    "    print(\"Drink plenty of water\")\n",
    "elif temprature > 20: #if temprature is less than 20\n",
    "    print(\"It,s a nice day\")\n",
    "elif temprature > 10: #if temprature is less than 30\n",
    "    print(\"It's a bit cold\")\n",
    "else: #else print this statement\n",
    "    print(\"It's cold\")\n",
    "#this  code is not indented it will always get executed     \n",
    "print(\"Done\") #it's not part of if block\n",
    "\n"
   ]
  },
  {
   "cell_type": "code",
   "execution_count": 9,
   "id": "029f8e24-6558-4f0d-b4fd-a1eb8ebe2adf",
   "metadata": {},
   "outputs": [
    {
     "name": "stdout",
     "output_type": "stream",
     "text": [
      "1\n",
      "2\n",
      "3\n",
      "4\n",
      "5\n"
     ]
    }
   ],
   "source": [
    "#While loop\n",
    "j = 1\n",
    "  \n",
    "while(j<= 5): \n",
    "     print(j) \n",
    "     j = j + 1\n",
    "#To indicate a block of code in Python, you must indent each line of the block by the same whitespace. \n",
    "#The two lines of code in the while loop are both indented four spaces. It is required for indicating what block of code a statement belongs to. \n",
    "#For example, j=1 and while(j<=5): is not indented, and so it is not within while block. \n",
    "#Python uses 4 spaces as indentation by default.\n",
    "#However, the number of spaces is up to you, but a minimum of 1 space has to be used."
   ]
  },
  {
   "cell_type": "code",
   "execution_count": 14,
   "id": "9679e6ff-c227-490c-bd8e-b0e4a924ee4e",
   "metadata": {},
   "outputs": [
    {
     "name": "stdout",
     "output_type": "stream",
     "text": [
      "5\n",
      "6\n",
      "7\n",
      "8\n",
      "9\n",
      "10\n"
     ]
    }
   ],
   "source": [
    "#While loop is useto repeat a block of code multiple time as per our requirement\n",
    "count = 5 \n",
    "while count <= 10: #0<5\n",
    "    #this indentation is important it indicates the body of loop\n",
    "    print(count)                 #1st loop run\n",
    "    #the loops runs three more times when count is equal 2,3 and 4 increasing the value of count in each iteration of the loop\n",
    "    count = count+ 1 #this line added incrementing value of count by one it's initial valueis zero it's new value is 1\n",
    "   "
   ]
  },
  {
   "cell_type": "markdown",
   "id": "f310935b-2031-4bc2-b7a5-9f6954c78121",
   "metadata": {},
   "source": [
    "## Python Comment"
   ]
  },
  {
   "cell_type": "code",
   "execution_count": 21,
   "id": "c1bc249e-24c0-40a3-9664-c6c842873af0",
   "metadata": {},
   "outputs": [
    {
     "name": "stdout",
     "output_type": "stream",
     "text": [
      "Hello, World!\n",
      "Cheers, Mate!\n",
      "Python is interesting\n"
     ]
    }
   ],
   "source": [
    "#Comments can be used to explain Python code.\n",
    "#Comments can be used to make the code more readable.\n",
    "#Comments can be used to prevent execution when testing code.\n",
    "#Comments starts with a #, and Python will ignore them\n",
    "# This is a comment print(\"Hello, World!\")\n",
    "#Comments can be placed at the end of a line, and Python will ignore the rest of the line\n",
    "#A comment does not have to be text that explains the code, it can also be used to prevent Python from executing code\n",
    "print(\"Hello, World!\") #Hello world\n",
    "#A comment does not have to be text that explains the code, it can also be used to prevent Python from executing code\n",
    "#print(\"Hello, World!\")\n",
    "print(\"Cheers, Mate!\")\n",
    "#To make multiple lines as comments we use three single or double quotes\n",
    "#(''' or \"\"\") at starting and end of multiline comment text.\n",
    "\"\"\" My name is Anurag!\n",
    "    I am Anurag\n",
    "    I love Python\n",
    "\"\"\"\n",
    "''' My name is Anurag\n",
    "    I am Anurag\n",
    "    I love Python\n",
    "'''\n",
    "print(\"Python is interesting\")"
   ]
  },
  {
   "cell_type": "code",
   "execution_count": null,
   "id": "398adc55-a769-413c-af45-7bfc13c441e1",
   "metadata": {},
   "outputs": [],
   "source": []
  }
 ],
 "metadata": {
  "kernelspec": {
   "display_name": "Python 3 (ipykernel)",
   "language": "python",
   "name": "python3"
  },
  "language_info": {
   "codemirror_mode": {
    "name": "ipython",
    "version": 3
   },
   "file_extension": ".py",
   "mimetype": "text/x-python",
   "name": "python",
   "nbconvert_exporter": "python",
   "pygments_lexer": "ipython3",
   "version": "3.9.7"
  }
 },
 "nbformat": 4,
 "nbformat_minor": 5
}
