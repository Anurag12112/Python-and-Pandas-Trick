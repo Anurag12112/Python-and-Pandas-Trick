{
 "cells": [
  {
   "cell_type": "markdown",
   "id": "78032744-38df-45e4-b795-69ba0ff3787c",
   "metadata": {},
   "source": [
    "# DATA TYPES"
   ]
  },
  {
   "cell_type": "markdown",
   "id": "9daa1270-b7c2-4c9e-b465-85aff9bba3d3",
   "metadata": {},
   "source": [
    "## In programming, data type is an important concept.\n",
    "\n",
    "## Variables can store data of different types, and different types can do different things.\n",
    "\n",
    "## Python has the following data types built-in by default, in these categories:\n",
    "\n",
    "## Text Type:\tstr\n",
    "## Numeric Types:\tint, float, complex\n",
    "## Sequence Types:\tlist, tuple, range\n",
    "## Mapping Type:\tdict\n",
    "## Set Types:\tset, frozenset\n",
    "## Boolean Type:\tbool\n",
    "## Binary Types:\tbytes, bytearray, memoryview\n",
    "## None Type:\tNoneType"
   ]
  },
  {
   "cell_type": "markdown",
   "id": "ca6a5de3-5060-4347-ac43-eee791cac92a",
   "metadata": {},
   "source": [
    "# Getting the Data Type"
   ]
  },
  {
   "cell_type": "markdown",
   "id": "89487398-e5ab-4be3-9427-f082b561d768",
   "metadata": {},
   "source": [
    "# You can get the data type of any object by using the type() function"
   ]
  },
  {
   "cell_type": "code",
   "execution_count": 2,
   "id": "dac49e5b-bc87-4e7c-9184-d301ae27519a",
   "metadata": {},
   "outputs": [
    {
     "name": "stdout",
     "output_type": "stream",
     "text": [
      "<class 'int'>\n"
     ]
    }
   ],
   "source": [
    "x = 5\n",
    "print(type(x))"
   ]
  },
  {
   "cell_type": "code",
   "execution_count": 10,
   "id": "2f3a3e92-c557-4c71-9d61-b83c0b598584",
   "metadata": {},
   "outputs": [
    {
     "name": "stdout",
     "output_type": "stream",
     "text": [
      "<class 'str'>\n",
      "<class 'int'>\n",
      "<class 'float'>\n",
      "<class 'complex'>\n",
      "<class 'list'>\n",
      "<class 'tuple'>\n",
      "<class 'range'>\n",
      "<class 'dict'>\n",
      "<class 'set'>\n",
      "<class 'frozenset'>\n",
      "<class 'bool'>\n",
      "<class 'bytes'>\n",
      "<class 'bytearray'>\n",
      "<class 'memoryview'>\n",
      "<class 'NoneType'>\n"
     ]
    }
   ],
   "source": [
    "x = \"Hello World\"\n",
    "print(type(x))\n",
    "\n",
    "x = 20 #int\n",
    "print(type(x))\n",
    "\n",
    "x = 20.5 #float\n",
    "print(type(x))\n",
    "\n",
    "x = 1j #complex\n",
    "print(type(x))\n",
    "x = [\"python\", \"java\", \"sql\"] #list\n",
    "print(type(x))\n",
    "\n",
    "x = (\"python\", \"java\", \"sql\") #tuple\n",
    "print(type(x))\n",
    "\n",
    "x = range(6) #range\n",
    "print(type(x))\n",
    "\n",
    "x = {\"name\" : \"Anurag\", \"age\" : 36} #dict\n",
    "print(type(x))\n",
    "\n",
    "x = {\"python\", \"java\", \"sql\"} #set\n",
    "print(type(x))\n",
    "\n",
    "x = frozenset({\"python\", \"java\", \"sql\"}) #frozenset\n",
    "print(type(x))\n",
    "\n",
    "x = True #bool\n",
    "print(type(x))\n",
    "\n",
    "x = b\"Hello\" #bytes\n",
    "print(type(x))\n",
    "\n",
    "x = bytearray(5) #bytearray \n",
    "print(type(x))\n",
    "\n",
    "x = memoryview(bytes(5)) #memoryview\n",
    "print(type(x))\n",
    "\n",
    "x = None #NoneType\n",
    "print(type(x))\n"
   ]
  },
  {
   "cell_type": "markdown",
   "id": "c48a5ab0-6c3b-4bc8-9bd6-9fa8659845d3",
   "metadata": {},
   "source": [
    "# Setting the Specific Data Type"
   ]
  },
  {
   "cell_type": "markdown",
   "id": "6af117da-65e4-4bc1-bd67-8173b6b8c563",
   "metadata": {},
   "source": [
    "## If you want to specify the data type, you can use the following constructor functions"
   ]
  },
  {
   "cell_type": "code",
   "execution_count": 9,
   "id": "bf6fc565-5c8f-4fda-b440-088ffb98bfb2",
   "metadata": {},
   "outputs": [
    {
     "name": "stdout",
     "output_type": "stream",
     "text": [
      "Hello World\n",
      "<class 'str'>\n",
      "20\n",
      "<class 'int'>\n",
      "20.5\n",
      "<class 'float'>\n",
      "1j\n",
      "<class 'complex'>\n",
      "['java', 'python', 'sql']\n",
      "<class 'list'>\n",
      "('java', 'python', 'sql')\n",
      "<class 'tuple'>\n",
      "range(0, 6)\n",
      "<class 'range'>\n",
      "{'name': 'Anurag', 'age': 36}\n",
      "<class 'dict'>\n",
      "{'python', 'java', 'sql'}\n",
      "<class 'set'>\n",
      "frozenset({'python', 'java', 'sql'})\n",
      "<class 'frozenset'>\n",
      "True\n",
      "<class 'bool'>\n",
      "b'\\x00\\x00\\x00\\x00\\x00'\n",
      "<class 'bytes'>\n",
      "bytearray(b'\\x00\\x00\\x00\\x00\\x00')\n",
      "<class 'bytearray'>\n",
      "<memory at 0x00000194207F54C0>\n",
      "<class 'memoryview'>\n"
     ]
    }
   ],
   "source": [
    "x = str(\"Hello World\")\n",
    "print(x)\n",
    "print(type(x))\n",
    "\n",
    "x = int(20)\n",
    "print(x)\n",
    "print(type(x))\n",
    "\n",
    "x = float(20.5)\n",
    "print(x)\n",
    "print(type(x))\n",
    "\n",
    "x = complex(1j)\n",
    "print(x)\n",
    "print(type(x))\n",
    "\n",
    "x = list((\"java\", \"python\", \"sql\"))\n",
    "print(x)\n",
    "print(type(x))\n",
    "\n",
    "x = tuple((\"java\", \"python\", \"sql\"))\n",
    "print(x)\n",
    "print(type(x))\n",
    "\n",
    "x = range(6)\n",
    "print(x)\n",
    "print(type(x))\n",
    "\n",
    "x = dict(name=\"Anurag\", age=36)\n",
    "print(x)\n",
    "print(type(x))\n",
    "\n",
    "x = set((\"java\", \"python\", \"sql\"))\n",
    "print(x)\n",
    "print(type(x))\n",
    "\n",
    "x = frozenset((\"java\", \"python\", \"sql\"))\n",
    "print(x)\n",
    "print(type(x))\n",
    "\n",
    "x = bool(5)\n",
    "print(x)\n",
    "print(type(x))\n",
    "\n",
    "x = bytes(5)\n",
    "print(x)\n",
    "print(type(x))\n",
    "\n",
    "x = bytearray(5)\n",
    "print(x)\n",
    "print(type(x))\n",
    "\n",
    "x = memoryview(bytes(5))\n",
    "print(x)\n",
    "print(type(x))"
   ]
  },
  {
   "cell_type": "markdown",
   "id": "f2389230-62ce-4834-a2ca-4b4fbf0c9579",
   "metadata": {},
   "source": [
    "# Python Numbers"
   ]
  },
  {
   "cell_type": "markdown",
   "id": "22cfacca-ff74-4fb9-9803-7b563ff2757c",
   "metadata": {},
   "source": [
    "## There are three numeric types in Python:\n",
    "## int,float,complex\n",
    "## Variables of numeric types are created when you assign a value to them"
   ]
  },
  {
   "cell_type": "code",
   "execution_count": 11,
   "id": "e0222968-ac4a-4c0b-9394-f515e8382035",
   "metadata": {},
   "outputs": [
    {
     "name": "stdout",
     "output_type": "stream",
     "text": [
      "<class 'int'>\n",
      "<class 'float'>\n",
      "<class 'complex'>\n"
     ]
    }
   ],
   "source": [
    "x = 1  \n",
    "print(type(x))\n",
    "y = 2.8\n",
    "print(type(y))\n",
    "z = 1j \n",
    "print(type(z))\n"
   ]
  },
  {
   "cell_type": "markdown",
   "id": "1a95142e-737e-4704-ada3-be40d13722e6",
   "metadata": {},
   "source": [
    "## Int\n",
    "## Int, or integer, is a whole number, positive or negative, without decimals, of unlimited length."
   ]
  },
  {
   "cell_type": "code",
   "execution_count": 12,
   "id": "cc9a3b45-266d-4b76-a6aa-bdc8de194d96",
   "metadata": {},
   "outputs": [
    {
     "name": "stdout",
     "output_type": "stream",
     "text": [
      "<class 'int'>\n",
      "<class 'int'>\n",
      "<class 'int'>\n"
     ]
    }
   ],
   "source": [
    "x = 1\n",
    "print(type(x))\n",
    "y = 35656222554887711\n",
    "print(type(y))\n",
    "z = -3255522\n",
    "print(type(z))"
   ]
  },
  {
   "cell_type": "markdown",
   "id": "6180dbe9-37ba-435e-9217-729a262390db",
   "metadata": {},
   "source": [
    "## Float\n",
    "## Float, or \"floating point number\" is a number, positive or negative, containing one or more decimals.\n",
    "## Float can also be scientific numbers with an \"e\" to indicate the power of 10"
   ]
  },
  {
   "cell_type": "code",
   "execution_count": 13,
   "id": "b652b5db-650d-4ede-a37a-822f5800501f",
   "metadata": {},
   "outputs": [
    {
     "name": "stdout",
     "output_type": "stream",
     "text": [
      "<class 'float'>\n",
      "<class 'float'>\n",
      "<class 'float'>\n"
     ]
    }
   ],
   "source": [
    "x = 1.10\n",
    "print(type(x))\n",
    "y = 1.0\n",
    "print(type(y))\n",
    "z = -35.59\n",
    "print(type(z))"
   ]
  },
  {
   "cell_type": "code",
   "execution_count": 14,
   "id": "c3a866ed-baed-4123-802b-e85f3f2906b2",
   "metadata": {},
   "outputs": [
    {
     "name": "stdout",
     "output_type": "stream",
     "text": [
      "<class 'float'>\n",
      "<class 'float'>\n",
      "<class 'float'>\n"
     ]
    }
   ],
   "source": [
    "x = 35e3\n",
    "y = 12E4\n",
    "z = -87.7e100\n",
    "\n",
    "print(type(x))\n",
    "print(type(y))\n",
    "print(type(z))"
   ]
  },
  {
   "cell_type": "markdown",
   "id": "04afc04f-fc50-4658-9975-927bf624a413",
   "metadata": {},
   "source": [
    "# Complex"
   ]
  },
  {
   "cell_type": "markdown",
   "id": "74ef23e7-1a77-4e6f-915d-c4d15cf55371",
   "metadata": {},
   "source": [
    "## Complex numbers are written with a \"j\" as the imagine"
   ]
  },
  {
   "cell_type": "code",
   "execution_count": 15,
   "id": "b43e7b7f-8a0e-4073-a62f-f410b7f8156e",
   "metadata": {},
   "outputs": [
    {
     "name": "stdout",
     "output_type": "stream",
     "text": [
      "<class 'complex'>\n",
      "<class 'complex'>\n",
      "<class 'complex'>\n"
     ]
    }
   ],
   "source": [
    "x = 3+5j\n",
    "y = 5j\n",
    "z = -5j\n",
    "\n",
    "print(type(x))\n",
    "print(type(y))\n",
    "print(type(z))"
   ]
  },
  {
   "cell_type": "markdown",
   "id": "1b474f53-8470-47e2-a6b4-504c6b9e29b9",
   "metadata": {},
   "source": [
    "# Type Conversion"
   ]
  },
  {
   "cell_type": "markdown",
   "id": "97fb4ec5-8d2a-41b4-adb3-5765e0ce2574",
   "metadata": {},
   "source": [
    "## converting from one type to another with the int(), float(), and complex() methods"
   ]
  },
  {
   "cell_type": "code",
   "execution_count": 16,
   "id": "26e485b2-78df-44cf-81bf-0dadeaa1609e",
   "metadata": {},
   "outputs": [
    {
     "name": "stdout",
     "output_type": "stream",
     "text": [
      "1.0\n",
      "2\n",
      "(1+0j)\n",
      "<class 'float'>\n",
      "<class 'int'>\n",
      "<class 'complex'>\n"
     ]
    }
   ],
   "source": [
    "x = 1  \n",
    "y = 2.8  \n",
    "z = 1j   \n",
    "\n",
    "#convert from int to float:\n",
    "a = float(x)\n",
    "\n",
    "#convert from float to int:\n",
    "b = int(y)\n",
    "\n",
    "#convert from int to complex:\n",
    "c = complex(x)\n",
    "\n",
    "print(a)\n",
    "print(b)\n",
    "print(c)\n",
    "\n",
    "print(type(a))\n",
    "print(type(b))\n",
    "print(type(c))"
   ]
  },
  {
   "cell_type": "markdown",
   "id": "e8eb6396-02b5-4412-a18a-38ad55889f80",
   "metadata": {},
   "source": [
    "# Random Number"
   ]
  },
  {
   "cell_type": "markdown",
   "id": "fd9fefe5-016f-4c57-8941-c5476a035ade",
   "metadata": {},
   "source": [
    "## Python does not have a random() function to make a random number. \n",
    "## But Python has a built-in module called random that can be used to make random numbers\n",
    "## Python defines a set of functions that are used to generate or manipulate random numbers through the random module.\n",
    "## Import the random module, and display a random number between 1 and 9\n"
   ]
  },
  {
   "cell_type": "code",
   "execution_count": 19,
   "id": "3688fe75-22e0-4671-a990-c70c5b409b3e",
   "metadata": {},
   "outputs": [
    {
     "name": "stdout",
     "output_type": "stream",
     "text": [
      "6\n"
     ]
    }
   ],
   "source": [
    "import random\n",
    "\n",
    "print(random.randrange(1, 10))"
   ]
  },
  {
   "cell_type": "markdown",
   "id": "fe9e978e-d113-41cc-bf0d-a1a7ac7a268b",
   "metadata": {},
   "source": [
    "# Python Casting"
   ]
  },
  {
   "cell_type": "markdown",
   "id": "1e7c6bf4-82a1-4d1c-80db-b16e7f0e19b2",
   "metadata": {},
   "source": [
    "## Specify a Variable Type\n",
    "## There may be times when you want to specify a type on to a variable. This can be done with casting. Python is an object-orientated language, and as such it uses classes to define data types, including its primitive types.\n",
    "\n",
    "## Casting in python is therefore done using constructor functions:\n",
    "\n",
    "## int() - constructs an integer number from an integer literal, a float literal (by removing all decimals), or a string literal (providing the string represents a whole number)\n",
    "## float() - constructs a float number from an integer literal, a float literal or a string literal (providing the string represents a float or an integer)\n",
    "## str() - constructs a string from a wide variety of data types, including strings, integer literals and float literals"
   ]
  },
  {
   "cell_type": "code",
   "execution_count": 23,
   "id": "9665844a-9cfc-407f-9b84-b9ff79140d67",
   "metadata": {},
   "outputs": [
    {
     "name": "stdout",
     "output_type": "stream",
     "text": [
      "1\n",
      "2\n",
      "3.0\n",
      "4.2\n"
     ]
    }
   ],
   "source": [
    "x = int(1)   # x will be 1\n",
    "print(x)\n",
    "y = str(2)    # y will be '2'\n",
    "print(y)\n",
    "z = float(\"3\")   # z will be 3.0\n",
    "print(z)\n",
    "w = float(\"4.2\") # w will be 4.2\n",
    "print(w)"
   ]
  },
  {
   "cell_type": "markdown",
   "id": "ccbb22c9-1bd6-465a-bf57-94ce350fd9e1",
   "metadata": {},
   "source": [
    "# Python Strings"
   ]
  },
  {
   "cell_type": "markdown",
   "id": "2ddbff5f-ed91-4e91-8bb2-213cef7fb25e",
   "metadata": {},
   "source": [
    "# Strings in python are surrounded by either single quotation marks, or double quotation marks.\n",
    "# 'hello' is the same as \"hello\".\n",
    "\n",
    "# You can display a string literal with the print() function"
   ]
  },
  {
   "cell_type": "code",
   "execution_count": 24,
   "id": "ab73137d-cf61-47c6-a037-7af4404dd7d8",
   "metadata": {},
   "outputs": [
    {
     "name": "stdout",
     "output_type": "stream",
     "text": [
      "Hello\n",
      "Hello\n"
     ]
    }
   ],
   "source": [
    "print(\"Hello\")\n",
    "print('Hello')"
   ]
  },
  {
   "cell_type": "markdown",
   "id": "7c50eda2-de61-44f4-9f5b-18aa18f317d9",
   "metadata": {},
   "source": [
    "# Assign String to a Variable\n",
    "# Assigning a string to a variable is done with the variable name followed by an equal sign and the string"
   ]
  },
  {
   "cell_type": "code",
   "execution_count": 26,
   "id": "8debb946-092e-4b18-b9b0-be7882b15f55",
   "metadata": {},
   "outputs": [
    {
     "name": "stdout",
     "output_type": "stream",
     "text": [
      "Hello\n"
     ]
    }
   ],
   "source": [
    "a = \"Hello\"\n",
    "print(a)"
   ]
  },
  {
   "cell_type": "markdown",
   "id": "30f8bae0-d9b5-4348-97d8-413865ad6eaf",
   "metadata": {},
   "source": [
    "## Strings are Arrays\n",
    "## Like many other popular programming languages, strings in Python are arrays of bytes representing unicode characters.\n",
    "## However, Python does not have a character data type, a single character is simply a string with a length of 1.\n",
    "## Square brackets can be used to access elements of the string."
   ]
  },
  {
   "cell_type": "code",
   "execution_count": 27,
   "id": "62e4bdef-4b39-449c-83f5-d765d31c1e1b",
   "metadata": {},
   "outputs": [
    {
     "name": "stdout",
     "output_type": "stream",
     "text": [
      "e\n"
     ]
    }
   ],
   "source": [
    "a = \"Hello, World!\"\n",
    "print(a[1]) #Get the character at position 1 (remember that the first character has the position 0)"
   ]
  },
  {
   "cell_type": "markdown",
   "id": "f3c018e3-b428-485b-b232-7568a9d64da1",
   "metadata": {},
   "source": [
    "## Looping Through a String\n",
    "## Since strings are arrays, we can loop through the characters in a string, with a for loop"
   ]
  },
  {
   "cell_type": "code",
   "execution_count": 29,
   "id": "a5ec48c7-8dec-4eb2-b2c0-11d4fa06100a",
   "metadata": {},
   "outputs": [
    {
     "name": "stdout",
     "output_type": "stream",
     "text": [
      "A\n",
      "n\n",
      "u\n",
      "r\n",
      "a\n",
      "g\n"
     ]
    }
   ],
   "source": [
    "for x in \"Anurag\": #Loop through the letters in the word \"banana\"\n",
    "  print(x) "
   ]
  },
  {
   "cell_type": "markdown",
   "id": "67af43bc-85ab-419c-aa04-b00947dc712c",
   "metadata": {},
   "source": [
    "## String Length\n",
    "## To get the length of a string, use the len() function"
   ]
  },
  {
   "cell_type": "code",
   "execution_count": 31,
   "id": "41f7d910-7cdd-47ba-8761-21a2609360cb",
   "metadata": {},
   "outputs": [
    {
     "name": "stdout",
     "output_type": "stream",
     "text": [
      "29\n"
     ]
    }
   ],
   "source": [
    "a = \"My name is Anurag Srivastava!\" \n",
    "print(len(a)) #The len() function returns the length of a string"
   ]
  },
  {
   "cell_type": "markdown",
   "id": "35b18ae3-3de7-4338-ad8e-7bf5a7f8b06f",
   "metadata": {},
   "source": [
    "## Check String\n",
    "## To check if a certain phrase or character is present in a string, we can use the keyword in"
   ]
  },
  {
   "cell_type": "code",
   "execution_count": 32,
   "id": "60f32931-a918-4f9c-a366-4956ec106cab",
   "metadata": {},
   "outputs": [
    {
     "name": "stdout",
     "output_type": "stream",
     "text": [
      "True\n"
     ]
    }
   ],
   "source": [
    "txt = \"The life is Amazing!\"\n",
    "print(\"life\" in txt) # Checking if \"life\" is present in the following text or not"
   ]
  },
  {
   "cell_type": "code",
   "execution_count": 33,
   "id": "990aae39-671c-40bd-b729-b81f7837a4cc",
   "metadata": {},
   "outputs": [
    {
     "name": "stdout",
     "output_type": "stream",
     "text": [
      "Yes, 'life' is present.\n"
     ]
    }
   ],
   "source": [
    "# Use it in an if statement\n",
    "txt = \"The life is Amazing!\"\n",
    "if \"life\" in txt:\n",
    "  print(\"Yes, 'life' is present.\")"
   ]
  },
  {
   "cell_type": "markdown",
   "id": "40398d3b-714c-4dd9-b31b-db6ffcbc678e",
   "metadata": {},
   "source": [
    "## Check if NOT\n",
    "## To check if a certain phrase or character is NOT present in a string, we can use the keyword not in"
   ]
  },
  {
   "cell_type": "code",
   "execution_count": 34,
   "id": "c5f692de-59ec-4f77-b181-75715ba8980c",
   "metadata": {},
   "outputs": [
    {
     "name": "stdout",
     "output_type": "stream",
     "text": [
      "True\n"
     ]
    }
   ],
   "source": [
    "txt = \"The life is Amazing!\"\n",
    "print(\"Cool\" not in txt)"
   ]
  },
  {
   "cell_type": "markdown",
   "id": "cf6f8e2e-8421-4d33-a5fe-5bc7dbd5eb24",
   "metadata": {},
   "source": [
    "## Use it in an if statement"
   ]
  },
  {
   "cell_type": "code",
   "execution_count": 39,
   "id": "6cedbbc5-a8e4-4917-b4cb-3d659e5066fc",
   "metadata": {},
   "outputs": [
    {
     "name": "stdout",
     "output_type": "stream",
     "text": [
      "No, 'Cool' is NOT present.\n"
     ]
    }
   ],
   "source": [
    "txt = \"The life is Amazing!\"\n",
    "if \" Cool\" not in txt:\n",
    "  print(\"No, 'Cool' is NOT present.\")"
   ]
  },
  {
   "cell_type": "markdown",
   "id": "0a4a8191-41cd-4b95-99a0-423e7b0e5f52",
   "metadata": {},
   "source": [
    "## Python - Slicing Strings"
   ]
  },
  {
   "cell_type": "code",
   "execution_count": 41,
   "id": "63c966db-765f-46fb-8834-628066bdcc53",
   "metadata": {},
   "outputs": [
    {
     "name": "stdout",
     "output_type": "stream",
     "text": [
      "llo\n"
     ]
    }
   ],
   "source": [
    "#The first character has index 0.\n",
    "b = \"Hello, Anurag!\"\n",
    "print(b[2:5]) #Get the characters from position 2 to position 5 (not included)"
   ]
  },
  {
   "cell_type": "markdown",
   "id": "fde1701d-12c6-426e-8a3d-293dc7a91bc8",
   "metadata": {},
   "source": [
    "# Slice From the Start\n",
    "## By leaving out the start index, the range will start at the first character\n"
   ]
  },
  {
   "cell_type": "code",
   "execution_count": 42,
   "id": "ef24ae47-bb37-4a8d-a82f-0afbe4a992af",
   "metadata": {},
   "outputs": [
    {
     "name": "stdout",
     "output_type": "stream",
     "text": [
      "Hello\n"
     ]
    }
   ],
   "source": [
    "b = \"Hello, Anurag!\"\n",
    "print(b[:5]) #Get the characters from the start to position 5 (not included)"
   ]
  },
  {
   "cell_type": "markdown",
   "id": "6696405a-2e97-4e69-8bf2-4bb81da60edb",
   "metadata": {},
   "source": [
    "# Python - Modify Strings\n",
    "## Python has a set of built-in methods that you can use on strings.\n",
    "## Upper Case"
   ]
  },
  {
   "cell_type": "code",
   "execution_count": 46,
   "id": "f7703e11-6cfa-4a2d-9a1b-72f50fafe5d2",
   "metadata": {},
   "outputs": [
    {
     "name": "stdout",
     "output_type": "stream",
     "text": [
      "HELLO, ANURAG!\n"
     ]
    }
   ],
   "source": [
    "a = \"Hello, Anurag!\"\n",
    "print(a.upper()) #The upper() method returns the string in upper case"
   ]
  },
  {
   "cell_type": "markdown",
   "id": "b6f087d5-0b1f-4648-8d49-25a0fe9bb6bc",
   "metadata": {},
   "source": [
    "# Lower Case"
   ]
  },
  {
   "cell_type": "code",
   "execution_count": 48,
   "id": "5614c9fd-6392-422a-b395-d52b38ae6382",
   "metadata": {},
   "outputs": [
    {
     "name": "stdout",
     "output_type": "stream",
     "text": [
      "hello, anurag!\n"
     ]
    }
   ],
   "source": [
    "a = \"Hello, Anurag!\"\n",
    "print(a.lower()) #The lower() method returns the string in lower case"
   ]
  },
  {
   "cell_type": "markdown",
   "id": "a50114e6-bfb6-40ea-a9ab-3171b7dffdda",
   "metadata": {},
   "source": [
    "# Remove Whitespace\n",
    "## Whitespace is the space before and/or after the actual text, and very often you want to remove this space"
   ]
  },
  {
   "cell_type": "code",
   "execution_count": 50,
   "id": "66de6120-6e32-44e5-b9fb-882d4a8d2b1f",
   "metadata": {},
   "outputs": [
    {
     "name": "stdout",
     "output_type": "stream",
     "text": [
      "Hello, Anurag!\n"
     ]
    }
   ],
   "source": [
    "a = \" Hello, Anurag! \"\n",
    "print(a.strip()) #returns \"Hello, World!\""
   ]
  },
  {
   "cell_type": "markdown",
   "id": "f5623d9f-336c-4c21-8899-eae9733df5f9",
   "metadata": {},
   "source": [
    "# Replace String"
   ]
  },
  {
   "cell_type": "code",
   "execution_count": 51,
   "id": "a3b025e7-8703-4636-83b6-ec5764a91323",
   "metadata": {},
   "outputs": [
    {
     "name": "stdout",
     "output_type": "stream",
     "text": [
      "Jello, Anurag!\n"
     ]
    }
   ],
   "source": [
    "a = \"Hello, Anurag!\"\n",
    "print(a.replace(\"H\", \"J\"))"
   ]
  },
  {
   "cell_type": "markdown",
   "id": "fa4fa92e-6c1c-418f-9257-51896547f933",
   "metadata": {},
   "source": [
    "# Split String\n",
    "## The split() method returns a list where the text between the specified separator becomes the list items"
   ]
  },
  {
   "cell_type": "code",
   "execution_count": 55,
   "id": "41a26cb3-a916-4927-98a5-73f2942206bd",
   "metadata": {},
   "outputs": [
    {
     "name": "stdout",
     "output_type": "stream",
     "text": [
      "['Hello', 'Anurag!']\n"
     ]
    }
   ],
   "source": [
    "a = \"Hello,Anurag!\"\n",
    "print(a.split(\",\")) # returns ['Hello', ' Anurag!'] The split() method splits the string into substrings if it finds instances of the separator"
   ]
  },
  {
   "cell_type": "markdown",
   "id": "4f37a4e6-45ae-410d-aabe-af3deace1dc8",
   "metadata": {},
   "source": [
    "# Python Booleans\n",
    "## In programming you often need to know if an expression is True or False.\n",
    "## You can evaluate any expression in Python, and get one of two answers, True or False.\n",
    "## When you compare two values, the expression is evaluated and Python returns the Boolean answer"
   ]
  },
  {
   "cell_type": "code",
   "execution_count": 57,
   "id": "d6a07b20-c1b5-4024-b1fa-20be2ed33b5a",
   "metadata": {},
   "outputs": [
    {
     "name": "stdout",
     "output_type": "stream",
     "text": [
      "True\n",
      "False\n",
      "False\n",
      "b is not greater than a\n"
     ]
    }
   ],
   "source": [
    "print(10 > 9)\n",
    "print(10 == 9)\n",
    "print(10 < 9)\n",
    "a = 200\n",
    "b = 33\n",
    "\n",
    "if b > a:\n",
    "  print(\"b is greater than a\")\n",
    "else:\n",
    "  print(\"b is not greater than a\")"
   ]
  },
  {
   "cell_type": "markdown",
   "id": "ab9d498e-d9e3-49fb-9530-63bbb8b32417",
   "metadata": {},
   "source": [
    "# Evaluate Values and Variables\n",
    "## The bool() function allows you to evaluate any value, and give you True or False in return"
   ]
  },
  {
   "cell_type": "code",
   "execution_count": 59,
   "id": "045b5597-79f5-4d6e-8a46-8cb6725e1a94",
   "metadata": {},
   "outputs": [
    {
     "name": "stdout",
     "output_type": "stream",
     "text": [
      "True\n",
      "True\n"
     ]
    }
   ],
   "source": [
    "print(bool(\"Hello\")) #Evaluate a string and a number\n",
    "print(bool(15))"
   ]
  },
  {
   "cell_type": "code",
   "execution_count": 61,
   "id": "b98b99f1-9e67-4908-8288-4d0e8cf5dfaf",
   "metadata": {},
   "outputs": [
    {
     "name": "stdout",
     "output_type": "stream",
     "text": [
      "True\n",
      "True\n"
     ]
    }
   ],
   "source": [
    "x = \"Hello\"\n",
    "y = 15\n",
    "\n",
    "print(bool(x)) #Evaluate two variables\n",
    "print(bool(y))"
   ]
  },
  {
   "cell_type": "markdown",
   "id": "abc871cb-4ed8-49a1-8077-771bab054d38",
   "metadata": {},
   "source": [
    "# How to Reverse a String in Python"
   ]
  },
  {
   "cell_type": "markdown",
   "id": "c156a075-5c45-4bcc-a119-07d4a2f9877a",
   "metadata": {},
   "source": [
    "## There is no built-in function to reverse a String in Python.\n",
    "## The fastest (and easiest?) way is to use a slice that steps backwards, -1.\n",
    "## The String to Reverse\n",
    "## Create a slice that starts at the end of the string, and moves backwards.\n",
    "## In this particular example, the slice statement [::-1] means start at the end of the string and end at position 0, \n",
    "## move with the step -1, negative one, which means one step backwards."
   ]
  },
  {
   "cell_type": "code",
   "execution_count": 62,
   "id": "7f030bf7-8110-4699-913a-f1823d7038ae",
   "metadata": {},
   "outputs": [
    {
     "name": "stdout",
     "output_type": "stream",
     "text": [
      "dlroW olleH\n"
     ]
    }
   ],
   "source": [
    "txt = \"Hello World\"[::-1] #Reverse the string \"Hello World\"\n",
    "print(txt) "
   ]
  },
  {
   "cell_type": "markdown",
   "id": "14e76e7b-2d6c-4fee-bbe2-0b0af175e99d",
   "metadata": {},
   "source": [
    "## Create a slice that starts at the end of the string, and moves backwards.\n",
    "## In this particular example, the slice statement [::-1] means start at the end of the string and end at position 0, \n",
    "## move with the step -1, negative one, which means one step backwards."
   ]
  },
  {
   "cell_type": "markdown",
   "id": "7ec52c86-849a-4623-af9c-37c4b68064fe",
   "metadata": {},
   "source": [
    "# Create a Function,\n"
   ]
  },
  {
   "cell_type": "code",
   "execution_count": 64,
   "id": "9c60f934-b94a-449e-b2c2-c9df5ce7fa3b",
   "metadata": {},
   "outputs": [
    {
     "name": "stdout",
     "output_type": "stream",
     "text": [
      "sdrawkcab ekil skool txet siht woh rednow I\n"
     ]
    }
   ],
   "source": [
    "def my_function(x):\n",
    "  return x[::-1]\n",
    "\n",
    "mytxt = my_function(\"I wonder how this text looks like backwards\")\n",
    "\n",
    "print(mytxt)\n"
   ]
  },
  {
   "cell_type": "code",
   "execution_count": null,
   "id": "df3aa2eb-ab72-4a34-b376-9faf82929326",
   "metadata": {},
   "outputs": [],
   "source": []
  }
 ],
 "metadata": {
  "kernelspec": {
   "display_name": "Python 3 (ipykernel)",
   "language": "python",
   "name": "python3"
  },
  "language_info": {
   "codemirror_mode": {
    "name": "ipython",
    "version": 3
   },
   "file_extension": ".py",
   "mimetype": "text/x-python",
   "name": "python",
   "nbconvert_exporter": "python",
   "pygments_lexer": "ipython3",
   "version": "3.9.7"
  }
 },
 "nbformat": 4,
 "nbformat_minor": 5
}
