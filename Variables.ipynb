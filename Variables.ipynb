{
 "cells": [
  {
   "cell_type": "markdown",
   "id": "3e626bc6-1342-4a85-9b10-a3228e9626ee",
   "metadata": {},
   "source": [
    "# VARIABLES"
   ]
  },
  {
   "cell_type": "markdown",
   "id": "db0b34d0-3b74-4c2d-a54d-8721bf5560ab",
   "metadata": {},
   "source": [
    "## Variables are containers for storing data values.\n",
    "## Creating Variables\n",
    "## Python has no command for declaring a variable.\n",
    "## A variable is created the moment you first assign a value to it.\n"
   ]
  },
  {
   "cell_type": "code",
   "execution_count": 11,
   "id": "f2cd5e50-a3b4-40f3-a89c-db8f2c7eaec8",
   "metadata": {},
   "outputs": [
    {
     "name": "stdout",
     "output_type": "stream",
     "text": [
      "5\n",
      "John\n"
     ]
    }
   ],
   "source": [
    "x = 5 # x is now\n",
    "#x is of type int\n",
    "x = 5\n",
    "\n",
    "# x is now of type str\n",
    "name = \"John\"\n",
    "print(x)\n",
    "print(y)"
   ]
  },
  {
   "cell_type": "markdown",
   "id": "7fb6588a-47e4-42f3-9bf3-88c6bc2273ad",
   "metadata": {},
   "source": [
    "# Casting"
   ]
  },
  {
   "cell_type": "markdown",
   "id": "ac206b25-d8ea-4bb2-b548-3e5ff54750b2",
   "metadata": {},
   "source": [
    "## If you want to specify the data type of a variable, this can be done with casting."
   ]
  },
  {
   "cell_type": "code",
   "execution_count": 16,
   "id": "48873f16-b263-4b9d-a217-124f3e82bc6e",
   "metadata": {},
   "outputs": [
    {
     "name": "stdout",
     "output_type": "stream",
     "text": [
      "3\n",
      "3\n",
      "3.0\n"
     ]
    }
   ],
   "source": [
    "x = str(3)    # x will be '3'\n",
    "print(x)\n",
    "y = int(3)    # y will be 3\n",
    "print(y)\n",
    "z = float(3)  # z will be 3.0\n",
    "print(z)"
   ]
  },
  {
   "cell_type": "markdown",
   "id": "2e51842c-0463-4d6b-825c-c625dd657175",
   "metadata": {},
   "source": [
    "# Get the Type"
   ]
  },
  {
   "cell_type": "markdown",
   "id": "3ab669c8-eb37-43d9-a3c0-c14c527e8a0a",
   "metadata": {},
   "source": [
    "## You can get the data type of a variable with the type() function."
   ]
  },
  {
   "cell_type": "code",
   "execution_count": 21,
   "id": "56bb78bb-3041-4341-81af-c75d4e025e3d",
   "metadata": {},
   "outputs": [
    {
     "name": "stdout",
     "output_type": "stream",
     "text": [
      "<class 'int'>\n",
      "<class 'str'>\n"
     ]
    }
   ],
   "source": [
    "x = 5\n",
    "y = \"Anurag\"\n",
    "print(type(x))\n",
    "print(type(y))"
   ]
  },
  {
   "cell_type": "markdown",
   "id": "2bd7c1e3-5443-473c-a90c-64b86252fcd9",
   "metadata": {},
   "source": [
    "# Single or Double Quotes"
   ]
  },
  {
   "cell_type": "markdown",
   "id": "bc58b4d5-97cc-4cd4-8c66-d4834d93043d",
   "metadata": {},
   "source": [
    "## String variables can be declared either by using single or double quotes"
   ]
  },
  {
   "cell_type": "code",
   "execution_count": 22,
   "id": "f097a98c-b791-4965-aead-c404ffafa294",
   "metadata": {},
   "outputs": [
    {
     "name": "stdout",
     "output_type": "stream",
     "text": [
      "Anurag\n",
      "Abhishek\n"
     ]
    }
   ],
   "source": [
    "x = \"Anurag\"\n",
    "print(x)\n",
    "# is the same as\n",
    "y = 'Abhishek'\n",
    "print(y)"
   ]
  },
  {
   "cell_type": "markdown",
   "id": "3e8c5180-7157-46c9-9f46-5aab6e56d3a9",
   "metadata": {},
   "source": [
    "# Case-Sensitive"
   ]
  },
  {
   "cell_type": "markdown",
   "id": "b7e3f264-68a9-4f88-bcc1-497c560dd9e2",
   "metadata": {},
   "source": [
    "## Variable names are case-sensitive."
   ]
  },
  {
   "cell_type": "code",
   "execution_count": 26,
   "id": "41ffb660-124c-41e3-972d-e6768d0396a3",
   "metadata": {},
   "outputs": [
    {
     "name": "stdout",
     "output_type": "stream",
     "text": [
      "4\n",
      "Anurag\n"
     ]
    }
   ],
   "source": [
    "#A will not overwrite a\n",
    "a = 4\n",
    "print(a)\n",
    "A = \"Anurag\"\n",
    "print(A)"
   ]
  },
  {
   "cell_type": "markdown",
   "id": "74838c3c-2741-4b92-83a8-8014347b6030",
   "metadata": {},
   "source": [
    "# Variable Names"
   ]
  },
  {
   "cell_type": "markdown",
   "id": "aad639c4-537e-432b-8016-0b250b3666e7",
   "metadata": {},
   "source": [
    "## A variable can have a short name (like x and y) or a more descriptive name (age, carname, total_volume). Rules for Python variables\n",
    "## A variable name must start with a letter or the underscore character\n",
    "## A variable name cannot start with a number\n",
    "## A variable name can only contain alpha-numeric characters and underscores (A-z, 0-9, and _ )\n",
    "## Variable names are case-sensitive (age, Age and AGE are three different variables)"
   ]
  },
  {
   "cell_type": "code",
   "execution_count": 29,
   "id": "7e1dd4b9-86fe-461a-8828-10b44b66409d",
   "metadata": {},
   "outputs": [
    {
     "name": "stdout",
     "output_type": "stream",
     "text": [
      "Anurag\n",
      "Anurag\n",
      "Anurag\n",
      "Anurag\n",
      "Anurag\n",
      "Anurag\n"
     ]
    }
   ],
   "source": [
    "myvar = \"Anurag\"\n",
    "print(myvar)\n",
    "my_var = \"Anurag\"\n",
    "print(my_var)\n",
    "_my_var = \"Anurag\"\n",
    "print(_my_var)\n",
    "myVar = \"Anurag\"\n",
    "print(myVar)\n",
    "MYVAR = \"Anurag\"\n",
    "print(MYVAR)\n",
    "myvar2 = \"Anurag\"\n",
    "print(myvar2)"
   ]
  },
  {
   "cell_type": "markdown",
   "id": "e447c23a-f4ba-4501-8feb-c7b5ab23e93f",
   "metadata": {},
   "source": [
    "# Assign Multiple Values"
   ]
  },
  {
   "cell_type": "markdown",
   "id": "4b24fb80-9eef-4c60-90b9-ee876a08f5e3",
   "metadata": {},
   "source": [
    "## Many Values to Multiple Variables"
   ]
  },
  {
   "cell_type": "markdown",
   "id": "8060d578-621f-4ce1-ab56-ff1f7b306c4f",
   "metadata": {},
   "source": [
    "## Python allows you to assign values to multiple variables in one line"
   ]
  },
  {
   "cell_type": "code",
   "execution_count": 31,
   "id": "b39d1910-499d-471a-a74d-b44a7df3c37e",
   "metadata": {},
   "outputs": [
    {
     "name": "stdout",
     "output_type": "stream",
     "text": [
      "London\n",
      "Amsterdam\n",
      "Canada\n"
     ]
    }
   ],
   "source": [
    "x, y, z = \"London\", \"Amsterdam\", \"Canada\"\n",
    "print(x)\n",
    "print(y)\n",
    "print(z)"
   ]
  },
  {
   "cell_type": "markdown",
   "id": "e42db7ae-4bf8-4ad0-915d-8dcfacac6b1d",
   "metadata": {},
   "source": [
    "# One Value to Multiple Variables"
   ]
  },
  {
   "cell_type": "markdown",
   "id": "8a762fe9-5ab5-4c67-9f96-359734ad126a",
   "metadata": {},
   "source": [
    "## And you can assign the same value to multiple variables in one line"
   ]
  },
  {
   "cell_type": "code",
   "execution_count": 32,
   "id": "716d800a-fe1f-46f7-9f84-d23ecc24b32c",
   "metadata": {},
   "outputs": [
    {
     "name": "stdout",
     "output_type": "stream",
     "text": [
      "Anurag\n",
      "Anurag\n",
      "Anurag\n"
     ]
    }
   ],
   "source": [
    "x = y = z = \"Anurag\"\n",
    "print(x)\n",
    "print(y)\n",
    "print(z)"
   ]
  },
  {
   "cell_type": "markdown",
   "id": "ea32f448-9804-4512-8bff-2ada11e97716",
   "metadata": {},
   "source": [
    "# Collection"
   ]
  },
  {
   "cell_type": "markdown",
   "id": "8031e192-4c2b-4381-8f58-e2b0ac59d85b",
   "metadata": {},
   "source": [
    "## If you have a collection of values in a list, tuple etc. Python allows you to extract the values into variables.\n",
    "## This is called unpacking."
   ]
  },
  {
   "cell_type": "code",
   "execution_count": 33,
   "id": "390608ae-6b88-4ff0-a5e9-369413e8341e",
   "metadata": {},
   "outputs": [
    {
     "name": "stdout",
     "output_type": "stream",
     "text": [
      "Anurag\n",
      "Abhishek\n",
      "Aditya\n"
     ]
    }
   ],
   "source": [
    "fruits = [\"Anurag\", \"Abhishek\", \"Aditya\"]\n",
    "x, y, z = fruits\n",
    "print(x)\n",
    "print(y)\n",
    "print(z)\n"
   ]
  },
  {
   "cell_type": "markdown",
   "id": "58ecf9dc-7cdd-44cb-93f3-85a9b7a61997",
   "metadata": {},
   "source": [
    "# Output Variables"
   ]
  },
  {
   "cell_type": "markdown",
   "id": "a2cfaade-0d6b-48bb-8cdb-55d1647dd611",
   "metadata": {},
   "source": [
    "## In the print() function, you output multiple variables, separated by a comma\n",
    "## The Python print() function is often used to output variables\n",
    "## You can also use the + operator to output multiple variables:"
   ]
  },
  {
   "cell_type": "code",
   "execution_count": 36,
   "id": "fb91a6f8-526d-4a76-b80c-32fbfbf58580",
   "metadata": {},
   "outputs": [
    {
     "name": "stdout",
     "output_type": "stream",
     "text": [
      "My name is Anurag\n",
      "My name is  Anurag\n",
      "My name is Anurag\n"
     ]
    }
   ],
   "source": [
    "x = \"My name is Anurag\"\n",
    "print(x)\n",
    "x = \"My name\"\n",
    "y = \"is\"\n",
    "z = \" Anurag\"\n",
    "print(x, y, z)\n",
    "x = \"My name \"\n",
    "y = \"is \"\n",
    "z = \"Anurag\"\n",
    "print(x + y + z)\n"
   ]
  },
  {
   "cell_type": "markdown",
   "id": "c0d5fdc8-5375-4265-b9c5-82705715e05c",
   "metadata": {},
   "source": [
    "# Global Variables"
   ]
  },
  {
   "cell_type": "markdown",
   "id": "d64f9c76-9a98-45e4-868f-6ef5d0660d8f",
   "metadata": {},
   "source": [
    "## Variables that are created outside of a function (as in all of the examples above) are known as global variables.\n",
    "## Global variables can be used by everyone, both inside of functions and outside.\n",
    "## Create a variable outside of a function, and use it inside the function"
   ]
  },
  {
   "cell_type": "code",
   "execution_count": 37,
   "id": "42d26a1d-4ad3-460c-85b5-4fb57a059782",
   "metadata": {},
   "outputs": [
    {
     "name": "stdout",
     "output_type": "stream",
     "text": [
      "My name is Anurag\n"
     ]
    }
   ],
   "source": [
    "x = \"Anurag\"\n",
    "\n",
    "def myfunc():\n",
    "  print(\"My name is \" + x)\n",
    "\n",
    "myfunc()"
   ]
  },
  {
   "cell_type": "markdown",
   "id": "efa0a4d6-0cf5-4498-a7e8-05a00262702a",
   "metadata": {},
   "source": [
    "## If you create a variable with the same name inside a function, this variable will be local, and can only be used inside the function.\n",
    "## The global variable with the same name will remain as it was, global and with the original value."
   ]
  },
  {
   "cell_type": "code",
   "execution_count": 39,
   "id": "d47ae4aa-a4a4-4b07-bf15-4e3b765f94eb",
   "metadata": {},
   "outputs": [
    {
     "name": "stdout",
     "output_type": "stream",
     "text": [
      "My name is Anurag\n",
      "I am Cool\n"
     ]
    }
   ],
   "source": [
    "x = \"Cool\"\n",
    "def myfunc():\n",
    "  x = \"Anurag\"\n",
    "  print(\"My name is \" + x)\n",
    "\n",
    "myfunc()\n",
    "\n",
    "print(\"I am \" + x)"
   ]
  },
  {
   "cell_type": "markdown",
   "id": "21aea46c-f81b-4b51-9881-fdb94e8d09b3",
   "metadata": {},
   "source": [
    "# The global Keyword"
   ]
  },
  {
   "cell_type": "markdown",
   "id": "9324d43f-d043-43b4-a322-3a3691cbb650",
   "metadata": {},
   "source": [
    "## Normally, when you create a variable inside a function, that variable is local, and can only be used inside that function.\n",
    "\n",
    "## To create a global variable inside a function, you can use the global keyword."
   ]
  },
  {
   "cell_type": "code",
   "execution_count": 40,
   "id": "bbec914b-d328-4f34-a0fd-168baedfc815",
   "metadata": {},
   "outputs": [
    {
     "name": "stdout",
     "output_type": "stream",
     "text": [
      "My name is Anurag\n"
     ]
    }
   ],
   "source": [
    "def myfunc():\n",
    "  global x\n",
    "  x = \"Anurag\"\n",
    "\n",
    "myfunc()\n",
    "\n",
    "print(\"My name is \" + x)\n"
   ]
  },
  {
   "cell_type": "markdown",
   "id": "b21bf3ea-2c02-404c-b151-7795cac3fcc6",
   "metadata": {},
   "source": [
    "## Also, use the global keyword if you want to change a global variable inside a function."
   ]
  },
  {
   "cell_type": "code",
   "execution_count": 41,
   "id": "ee3765df-8067-4bb5-be61-477cff8678f3",
   "metadata": {},
   "outputs": [
    {
     "name": "stdout",
     "output_type": "stream",
     "text": [
      "My name is Anurag\n"
     ]
    }
   ],
   "source": [
    "x = \"Python\"\n",
    "\n",
    "def myfunc():\n",
    "  global x\n",
    "  x = \"Anurag\"\n",
    "\n",
    "myfunc()\n",
    "\n",
    "print(\"My name is \" + x)\n"
   ]
  }
 ],
 "metadata": {
  "kernelspec": {
   "display_name": "Python 3 (ipykernel)",
   "language": "python",
   "name": "python3"
  },
  "language_info": {
   "codemirror_mode": {
    "name": "ipython",
    "version": 3
   },
   "file_extension": ".py",
   "mimetype": "text/x-python",
   "name": "python",
   "nbconvert_exporter": "python",
   "pygments_lexer": "ipython3",
   "version": "3.9.7"
  }
 },
 "nbformat": 4,
 "nbformat_minor": 5
}
