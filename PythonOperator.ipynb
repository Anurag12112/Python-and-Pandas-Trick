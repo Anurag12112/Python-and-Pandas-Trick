{
 "cells": [
  {
   "cell_type": "markdown",
   "id": "afb5cc67-4bf5-4bc4-a88e-c980cfa8f09e",
   "metadata": {},
   "source": [
    "# Python Operators\n",
    "## Operators are used to perform operations on variables and values."
   ]
  },
  {
   "cell_type": "markdown",
   "id": "47b030cb-b33a-4d96-ae7c-5a1fa9bf6699",
   "metadata": {},
   "source": [
    "# Arithmetic operators\n",
    "# Assignment operators\n",
    "# Comparison operators\n",
    "# Logical operators\n",
    "# Identity operators\n",
    "# Membership operators\n",
    "# Bitwise operators"
   ]
  },
  {
   "cell_type": "code",
   "execution_count": 1,
   "id": "fa5c53af-5719-48b6-b845-189b965cc57e",
   "metadata": {},
   "outputs": [
    {
     "name": "stdout",
     "output_type": "stream",
     "text": [
      "8\n",
      "2\n",
      "15\n",
      "4.0\n",
      "1\n",
      "32\n",
      "7\n"
     ]
    }
   ],
   "source": [
    "#Addition\n",
    "x = 5\n",
    "y = 3\n",
    "print(x + y)\n",
    "\n",
    "#Subtraction\n",
    "x = 5\n",
    "y = 3\n",
    "print(x - y)\n",
    "\n",
    "#Multiplication\n",
    "x = 5\n",
    "y = 3\n",
    "print(x * y)\n",
    "\n",
    "#Division\n",
    "x = 12\n",
    "y = 3\n",
    "print(x / y)\n",
    "\n",
    "#Modulus\n",
    "x = 5\n",
    "y = 2\n",
    "print(x % y)\n",
    "\n",
    "#Exponentiation\n",
    "x = 2\n",
    "y = 5\n",
    "print(x ** y) #same as 2*2*2*2*2\n",
    "\n",
    "#Floor division\n",
    "x = 15\n",
    "y = 2\n",
    "print(x // y) #the floor division // rounds the result down to the nearest whole number\n",
    "\n"
   ]
  },
  {
   "cell_type": "markdown",
   "id": "4b92736b-d9aa-4800-acdc-98b9736ee1d9",
   "metadata": {},
   "source": [
    "# How to Add Two Numbers in Python"
   ]
  },
  {
   "cell_type": "code",
   "execution_count": 10,
   "id": "262e554d-35ce-4045-a21c-1cca5db31638",
   "metadata": {},
   "outputs": [
    {
     "name": "stdin",
     "output_type": "stream",
     "text": [
      "Type a number:  12\n",
      "Type another number:  13\n"
     ]
    },
    {
     "name": "stdout",
     "output_type": "stream",
     "text": [
      "The sum is:  25\n"
     ]
    }
   ],
   "source": [
    "x = input(\"Type a number: \")\n",
    "y = input(\"Type another number: \")\n",
    "\n",
    "sum = int(x) + int(y)\n",
    "\n",
    "print(\"The sum is: \", sum)"
   ]
  },
  {
   "cell_type": "markdown",
   "id": "6767d8cd-f913-4028-9d81-a9e53856e29b",
   "metadata": {},
   "source": [
    "# Python Assignment Operators\n",
    "# Assignment operators are used to assign values to variables"
   ]
  },
  {
   "cell_type": "code",
   "execution_count": 3,
   "id": "7395dff9-3ff3-4114-b43b-3b9b55c4f7b8",
   "metadata": {},
   "outputs": [
    {
     "name": "stdout",
     "output_type": "stream",
     "text": [
      "5\n",
      "8\n",
      "2\n",
      "15\n",
      "15\n",
      "15\n",
      "1\n",
      "125\n",
      "1\n",
      "7\n",
      "6\n",
      "0\n",
      "40\n"
     ]
    }
   ],
   "source": [
    "# = Assign value of right side of expression to left side operand\n",
    "x = 5\n",
    "print(x) #Assign: This operator is used to assign the value of the right side of the expression to the left side operand.\n",
    "\n",
    "# += Add and Assign: Add right side operand with left side operand and then assign to left operand\n",
    "x = 5\n",
    "x += 3\n",
    "print(x) #vAdd and Assign: This operator is used to add the right side operand \n",
    "#with the left side operand and then assigning the result to the left operand.\n",
    "\n",
    "# -= Subtract AND: Subtract right operand from left operand and then assign to left operand: True if both operands are equal\n",
    "x = 5\n",
    "x -= 3\n",
    "print(x) #Subtract and Assign: This operator is used to subtract the right operand\n",
    "#from the left operand and then assigning the result to the left operand.\n",
    "\n",
    "#*= Multiply AND:  Multiply right operand with left operand and then assign to left operand\t\n",
    "x = 5\n",
    "x *= 3\n",
    "print(x) #Multiply and Assign: This operator is used to multiply the right operand with\n",
    "the left operand and then assigning the result to the left operand.\n",
    "\n",
    "#/= Divide AND: Divide left operand with right operand and then assign to left operand\n",
    "x = 5\n",
    "x *= 3\n",
    "print(x)\n",
    "\n",
    "#%= Modulus AND: Takes modulus using left and right operands and assign result to left operand\n",
    "x = 5\n",
    "x *= 3\n",
    "print(x)\n",
    "\n",
    "\n",
    "#//= Divide(floor) AND: Divide left operand with right operand and then assign the value(floor) to left operand\t\n",
    "x = 5\n",
    "x//=3\n",
    "print(x)\n",
    "\n",
    "#**= Exponent AND: Calculate exponent(raise power) value using operands and assign value to left operand\n",
    "x = 5\n",
    "x **= 3\n",
    "print(x)\n",
    "\n",
    "#&= Performs Bitwise AND on operands and assign value to left operand\n",
    "x = 5\n",
    "x &= 3\n",
    "print(x)\n",
    "\n",
    "\n",
    "# |= Performs Bitwise OR on operands and assign value to left operand\n",
    "x = 5\n",
    "x |= 3\n",
    "print(x)\n",
    "\n",
    "\n",
    "#^= Performs Bitwise xOR on operands and assign value to left operand\n",
    "x = 5\n",
    "x ^= 3\n",
    "print(x)\n",
    "\n",
    "#>>= Performs Bitwise right shift on operands and assign value to left operand\n",
    "x = 5\n",
    "\n",
    "x >>= 3\n",
    "\n",
    "print(x)\n",
    "\n",
    "\n",
    "#<<= Performs Bitwise left shift on operands and assign value to left operand\n",
    "x = 5\n",
    "x <<= 3\n",
    "print(x)\n"
   ]
  },
  {
   "cell_type": "markdown",
   "id": "7403c40b-a8ab-411b-8199-36efb642e61f",
   "metadata": {},
   "source": [
    "# Python Comparison Operators"
   ]
  },
  {
   "cell_type": "code",
   "execution_count": 4,
   "id": "b7b19b7f-61d1-487c-8e42-295213134990",
   "metadata": {},
   "outputs": [
    {
     "name": "stdout",
     "output_type": "stream",
     "text": [
      "False\n",
      "True\n",
      "True\n",
      "False\n",
      "True\n",
      "False\n"
     ]
    }
   ],
   "source": [
    "#== Equal\n",
    "x = 5\n",
    "y = 3\n",
    "print(x == y)\n",
    "# returns False because 5 is not equal to 3\n",
    "\n",
    "#!=Not equal\n",
    "x = 5\n",
    "y = 3\n",
    "print(x != y) # returns True because 5 is not equal to 3\n",
    "\n",
    "#>Greater than\n",
    "x = 5\n",
    "y = 3\n",
    "print(x > y) # returns True because 5 is greater than 3\n",
    "\n",
    "#<Less than\n",
    "x = 5\n",
    "y = 3\n",
    "print(x < y) # returns False because 5 is not less than 3\n",
    "\n",
    "#>=Greater than or equal to\n",
    "x = 5\n",
    "y = 3\n",
    "print(x >= y) # returns True because five is greater, or equal, to 3\n",
    "\n",
    "#<=Less than or equal to\n",
    "x = 5\n",
    "y = 3\n",
    "print(x <= y) # returns False because 5 is neither less than or equal to 3\n",
    "\n",
    "\n",
    "\n"
   ]
  },
  {
   "cell_type": "markdown",
   "id": "a8af68a9-d945-4829-8b07-ccc0c114a233",
   "metadata": {},
   "source": [
    "# Python Logical Operators\n",
    "## Python Logical Operators\n",
    "## Logical operators are used to combine conditional statements"
   ]
  },
  {
   "cell_type": "code",
   "execution_count": 5,
   "id": "77d260ea-54ce-43ed-81f4-7ca26776e5f1",
   "metadata": {},
   "outputs": [
    {
     "name": "stdout",
     "output_type": "stream",
     "text": [
      "True\n",
      "True\n",
      "False\n"
     ]
    }
   ],
   "source": [
    "#and Returns True if both statements are true\n",
    "#Logical AND: True if both the operands are true\tx and y\n",
    "x = 5\n",
    "print(x > 3 and x < 10) # returns True because 5 is greater than 3 AND 5 is less than 10\n",
    "\n",
    "#or Returns True if one of the statements is true\n",
    "#Logical OR: True if either of the operands is true \tx or y\n",
    "x = 5\n",
    "print(x > 3 or x < 4) # returns True because one of the conditions are true (5 is greater than 3, but 5 is not less than 4)\n",
    "\n",
    "#not Reverse the result, returns False if the result is true\n",
    "#Logical NOT: True if the operand is false \tnot x\n",
    "x = 5\n",
    "print(not(x > 3 and x < 10)) # returns False because not is used to reverse the result"
   ]
  },
  {
   "cell_type": "markdown",
   "id": "869106fb-dc01-4edd-b6c9-76f7efa1d018",
   "metadata": {},
   "source": [
    "# Python Identity Operators\n",
    "## Identity operators are used to compare the objects, not if they are equal, but if they are actually the same object, with the same memory location:"
   ]
  },
  {
   "cell_type": "code",
   "execution_count": 7,
   "id": "59fb5b85-b3d9-469c-ae2e-eccd45a902f9",
   "metadata": {},
   "outputs": [
    {
     "name": "stdout",
     "output_type": "stream",
     "text": [
      "True\n",
      "False\n",
      "True\n"
     ]
    }
   ],
   "source": [
    "#is Returns True if both variables are the same object x is y\n",
    "#is not Returns True if both variables are not the same object x is not y\n",
    "x = [\"Anurag\", \"Jitesh\"]\n",
    "y = [\"Anurag\", \"Jitesh\"]\n",
    "z = x\n",
    "print(x is z) # returns True because z is the same object as x\n",
    "print(x is y) # returns False because x is not the same object as y, even if they have the same content\n",
    "print(x == y) # to demonstrate the difference betweeen \"is\" and \"==\": this comparison returns True because x is equal to y"
   ]
  },
  {
   "cell_type": "markdown",
   "id": "345f4aa9-a952-45c6-97dd-77c123d823db",
   "metadata": {},
   "source": [
    "# Python Membership Operators"
   ]
  },
  {
   "cell_type": "code",
   "execution_count": 9,
   "id": "dea149e8-a14e-4aea-8880-af171870dc7f",
   "metadata": {},
   "outputs": [
    {
     "name": "stdout",
     "output_type": "stream",
     "text": [
      "True\n",
      "True\n"
     ]
    }
   ],
   "source": [
    "#in Returns True if a sequence with the specified value is present in the objectx in y\n",
    "x = [\"apple\", \"banana\"]\n",
    "print(\"banana\" in x) # returns True because a sequence with the value \"banana\" is in the list\n",
    "\n",
    "#not in\tReturns True if a sequence with the specified value is not present in the object not in y\n",
    "x = [\"apple\", \"banana\"]\n",
    "\n",
    "print(\"pineapple\" not in x) # returns True because a sequence with the value \"pineapple\" is not in the list\n",
    "\n",
    "\n"
   ]
  },
  {
   "cell_type": "markdown",
   "id": "a9ab83a2-dcb2-4ad4-b7ab-bee7ac0be212",
   "metadata": {},
   "source": [
    "# Python Bitwise Operators"
   ]
  },
  {
   "cell_type": "markdown",
   "id": "303d7fa2-fe24-48d1-96aa-734276d409b7",
   "metadata": {},
   "source": [
    "## & AND Sets each bit to 1 if both bits are 1\n",
    "## | OR Sets each bit to 1 if one of two bits is 1\n",
    "## ^ XOR Sets each bit to 1 if only one of two bits is 1\n",
    "## ~ NOT Inverts all the bits\n",
    "## << Zero fill left shift Shift left by pushing zeros in from the right and let the leftmost bits fall off\n",
    "## >> Signed right shift Shift right by pushing copies of the leftmost bit in from the left, and let the rightmost bits fall off"
   ]
  }
 ],
 "metadata": {
  "kernelspec": {
   "display_name": "Python 3 (ipykernel)",
   "language": "python",
   "name": "python3"
  },
  "language_info": {
   "codemirror_mode": {
    "name": "ipython",
    "version": 3
   },
   "file_extension": ".py",
   "mimetype": "text/x-python",
   "name": "python",
   "nbconvert_exporter": "python",
   "pygments_lexer": "ipython3",
   "version": "3.9.7"
  }
 },
 "nbformat": 4,
 "nbformat_minor": 5
}
