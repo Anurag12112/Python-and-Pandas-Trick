{
 "cells": [
  {
   "cell_type": "markdown",
   "id": "5837848f-fe74-4451-94f7-54cdfcee5dbd",
   "metadata": {},
   "source": [
    "## How to open read write and delete files"
   ]
  },
  {
   "cell_type": "markdown",
   "id": "825a42b9-e34c-4c28-8f9d-2bbfc58a3d2f",
   "metadata": {},
   "source": [
    "## Open a file in Python with the open() function.\n",
    "## The open()function in python accepts two arguments. The first one is thefile name along with the complete oath and second one is the file open mode.\n",
    "## ‘r’: This mode indicate that file will be open for reading only.\n",
    "## ‘w’: This mode indicate that file will be open for writing only.\n",
    "## Creates a new file if it doesn’t exist\n",
    "## Clears the content of the file if it exist\n",
    "## ‘a’: This mode indicate that output of the program will be append to previous output of that file \n",
    "## f = open(“demofile.txt”, “r”)"
   ]
  }
 ],
 "metadata": {
  "kernelspec": {
   "display_name": "Python 3 (ipykernel)",
   "language": "python",
   "name": "python3"
  },
  "language_info": {
   "codemirror_mode": {
    "name": "ipython",
    "version": 3
   },
   "file_extension": ".py",
   "mimetype": "text/x-python",
   "name": "python",
   "nbconvert_exporter": "python",
   "pygments_lexer": "ipython3",
   "version": "3.9.7"
  }
 },
 "nbformat": 4,
 "nbformat_minor": 5
}
